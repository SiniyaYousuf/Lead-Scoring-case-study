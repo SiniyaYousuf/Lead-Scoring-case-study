{
 "cells": [
  {
   "cell_type": "markdown",
   "id": "576b2719",
   "metadata": {},
   "source": [
    "## <U> Lead Scoring case study\n",
    "\n",
    "#### <u>Problem statement\n",
    "    \n",
    "     Xeducation company wants to improve their lead score by identifying the customers who are most      likely to get converted.Although X Education gets a lot of leads, its lead conversion rate is very poor. To make this process more efficient, the company wishes to identify the most potential leads, also known as ‘Hot Leads’. If they successfully identify this set of leads, the lead conversion rate should go up as the sales team will now be focusing more on communicating with the potential leads rather than making calls to everyone.\n",
    "    \n",
    "#### <u> Goal  \n",
    "    Build a logistic regression model to assign a lead score between 0 and 100 to each of the leads which can be used by the company to target potential leads. A higher score would mean that the lead is hot, i.e. is most likely to convert whereas a lower score would mean that the lead is cold and will mostly not get converted.\n",
    "    "
   ]
  },
  {
   "cell_type": "markdown",
   "id": "cddadd77",
   "metadata": {},
   "source": [
    "Importing all the necessary libraries as required"
   ]
  },
  {
   "cell_type": "code",
   "execution_count": 467,
   "id": "7014fe55",
   "metadata": {},
   "outputs": [],
   "source": [
    "import warnings\n",
    "warnings.filterwarnings(\"ignore\")"
   ]
  },
  {
   "cell_type": "code",
   "execution_count": 468,
   "id": "b41613cc",
   "metadata": {},
   "outputs": [],
   "source": [
    "import pandas as pd\n",
    "import numpy as np\n",
    "import matplotlib.pyplot as plt\n",
    "import seaborn as sns\n",
    "import sklearn\n",
    "import statsmodels.api as sm \n",
    "from sklearn.model_selection import train_test_split\n",
    "from sklearn.preprocessing import MinMaxScaler\n",
    "from sklearn.linear_model import LogisticRegression\n",
    "from sklearn.feature_selection import RFE\n",
    "from statsmodels.stats.outliers_influence import variance_inflation_factor\n",
    "from sklearn import metrics\n",
    "from sklearn.metrics import precision_recall_curve"
   ]
  },
  {
   "cell_type": "markdown",
   "id": "ac797ea7",
   "metadata": {},
   "source": [
    "### Data reading and preprocessing"
   ]
  },
  {
   "cell_type": "code",
   "execution_count": 469,
   "id": "8f69c902",
   "metadata": {},
   "outputs": [
    {
     "data": {
      "text/html": [
       "<div>\n",
       "<style scoped>\n",
       "    .dataframe tbody tr th:only-of-type {\n",
       "        vertical-align: middle;\n",
       "    }\n",
       "\n",
       "    .dataframe tbody tr th {\n",
       "        vertical-align: top;\n",
       "    }\n",
       "\n",
       "    .dataframe thead th {\n",
       "        text-align: right;\n",
       "    }\n",
       "</style>\n",
       "<table border=\"1\" class=\"dataframe\">\n",
       "  <thead>\n",
       "    <tr style=\"text-align: right;\">\n",
       "      <th></th>\n",
       "      <th>Prospect ID</th>\n",
       "      <th>Lead Number</th>\n",
       "      <th>Lead Origin</th>\n",
       "      <th>Lead Source</th>\n",
       "      <th>Do Not Email</th>\n",
       "      <th>Do Not Call</th>\n",
       "      <th>Converted</th>\n",
       "      <th>TotalVisits</th>\n",
       "      <th>Total Time Spent on Website</th>\n",
       "      <th>Page Views Per Visit</th>\n",
       "      <th>...</th>\n",
       "      <th>Get updates on DM Content</th>\n",
       "      <th>Lead Profile</th>\n",
       "      <th>City</th>\n",
       "      <th>Asymmetrique Activity Index</th>\n",
       "      <th>Asymmetrique Profile Index</th>\n",
       "      <th>Asymmetrique Activity Score</th>\n",
       "      <th>Asymmetrique Profile Score</th>\n",
       "      <th>I agree to pay the amount through cheque</th>\n",
       "      <th>A free copy of Mastering The Interview</th>\n",
       "      <th>Last Notable Activity</th>\n",
       "    </tr>\n",
       "  </thead>\n",
       "  <tbody>\n",
       "    <tr>\n",
       "      <th>0</th>\n",
       "      <td>7927b2df-8bba-4d29-b9a2-b6e0beafe620</td>\n",
       "      <td>660737</td>\n",
       "      <td>API</td>\n",
       "      <td>Olark Chat</td>\n",
       "      <td>No</td>\n",
       "      <td>No</td>\n",
       "      <td>0</td>\n",
       "      <td>0.0</td>\n",
       "      <td>0</td>\n",
       "      <td>0.0</td>\n",
       "      <td>...</td>\n",
       "      <td>No</td>\n",
       "      <td>Select</td>\n",
       "      <td>Select</td>\n",
       "      <td>02.Medium</td>\n",
       "      <td>02.Medium</td>\n",
       "      <td>15.0</td>\n",
       "      <td>15.0</td>\n",
       "      <td>No</td>\n",
       "      <td>No</td>\n",
       "      <td>Modified</td>\n",
       "    </tr>\n",
       "    <tr>\n",
       "      <th>1</th>\n",
       "      <td>2a272436-5132-4136-86fa-dcc88c88f482</td>\n",
       "      <td>660728</td>\n",
       "      <td>API</td>\n",
       "      <td>Organic Search</td>\n",
       "      <td>No</td>\n",
       "      <td>No</td>\n",
       "      <td>0</td>\n",
       "      <td>5.0</td>\n",
       "      <td>674</td>\n",
       "      <td>2.5</td>\n",
       "      <td>...</td>\n",
       "      <td>No</td>\n",
       "      <td>Select</td>\n",
       "      <td>Select</td>\n",
       "      <td>02.Medium</td>\n",
       "      <td>02.Medium</td>\n",
       "      <td>15.0</td>\n",
       "      <td>15.0</td>\n",
       "      <td>No</td>\n",
       "      <td>No</td>\n",
       "      <td>Email Opened</td>\n",
       "    </tr>\n",
       "    <tr>\n",
       "      <th>2</th>\n",
       "      <td>8cc8c611-a219-4f35-ad23-fdfd2656bd8a</td>\n",
       "      <td>660727</td>\n",
       "      <td>Landing Page Submission</td>\n",
       "      <td>Direct Traffic</td>\n",
       "      <td>No</td>\n",
       "      <td>No</td>\n",
       "      <td>1</td>\n",
       "      <td>2.0</td>\n",
       "      <td>1532</td>\n",
       "      <td>2.0</td>\n",
       "      <td>...</td>\n",
       "      <td>No</td>\n",
       "      <td>Potential Lead</td>\n",
       "      <td>Mumbai</td>\n",
       "      <td>02.Medium</td>\n",
       "      <td>01.High</td>\n",
       "      <td>14.0</td>\n",
       "      <td>20.0</td>\n",
       "      <td>No</td>\n",
       "      <td>Yes</td>\n",
       "      <td>Email Opened</td>\n",
       "    </tr>\n",
       "    <tr>\n",
       "      <th>3</th>\n",
       "      <td>0cc2df48-7cf4-4e39-9de9-19797f9b38cc</td>\n",
       "      <td>660719</td>\n",
       "      <td>Landing Page Submission</td>\n",
       "      <td>Direct Traffic</td>\n",
       "      <td>No</td>\n",
       "      <td>No</td>\n",
       "      <td>0</td>\n",
       "      <td>1.0</td>\n",
       "      <td>305</td>\n",
       "      <td>1.0</td>\n",
       "      <td>...</td>\n",
       "      <td>No</td>\n",
       "      <td>Select</td>\n",
       "      <td>Mumbai</td>\n",
       "      <td>02.Medium</td>\n",
       "      <td>01.High</td>\n",
       "      <td>13.0</td>\n",
       "      <td>17.0</td>\n",
       "      <td>No</td>\n",
       "      <td>No</td>\n",
       "      <td>Modified</td>\n",
       "    </tr>\n",
       "    <tr>\n",
       "      <th>4</th>\n",
       "      <td>3256f628-e534-4826-9d63-4a8b88782852</td>\n",
       "      <td>660681</td>\n",
       "      <td>Landing Page Submission</td>\n",
       "      <td>Google</td>\n",
       "      <td>No</td>\n",
       "      <td>No</td>\n",
       "      <td>1</td>\n",
       "      <td>2.0</td>\n",
       "      <td>1428</td>\n",
       "      <td>1.0</td>\n",
       "      <td>...</td>\n",
       "      <td>No</td>\n",
       "      <td>Select</td>\n",
       "      <td>Mumbai</td>\n",
       "      <td>02.Medium</td>\n",
       "      <td>01.High</td>\n",
       "      <td>15.0</td>\n",
       "      <td>18.0</td>\n",
       "      <td>No</td>\n",
       "      <td>No</td>\n",
       "      <td>Modified</td>\n",
       "    </tr>\n",
       "  </tbody>\n",
       "</table>\n",
       "<p>5 rows × 37 columns</p>\n",
       "</div>"
      ],
      "text/plain": [
       "                            Prospect ID  Lead Number              Lead Origin  \\\n",
       "0  7927b2df-8bba-4d29-b9a2-b6e0beafe620       660737                      API   \n",
       "1  2a272436-5132-4136-86fa-dcc88c88f482       660728                      API   \n",
       "2  8cc8c611-a219-4f35-ad23-fdfd2656bd8a       660727  Landing Page Submission   \n",
       "3  0cc2df48-7cf4-4e39-9de9-19797f9b38cc       660719  Landing Page Submission   \n",
       "4  3256f628-e534-4826-9d63-4a8b88782852       660681  Landing Page Submission   \n",
       "\n",
       "      Lead Source Do Not Email Do Not Call  Converted  TotalVisits  \\\n",
       "0      Olark Chat           No          No          0          0.0   \n",
       "1  Organic Search           No          No          0          5.0   \n",
       "2  Direct Traffic           No          No          1          2.0   \n",
       "3  Direct Traffic           No          No          0          1.0   \n",
       "4          Google           No          No          1          2.0   \n",
       "\n",
       "   Total Time Spent on Website  Page Views Per Visit  ...  \\\n",
       "0                            0                   0.0  ...   \n",
       "1                          674                   2.5  ...   \n",
       "2                         1532                   2.0  ...   \n",
       "3                          305                   1.0  ...   \n",
       "4                         1428                   1.0  ...   \n",
       "\n",
       "  Get updates on DM Content    Lead Profile    City  \\\n",
       "0                        No          Select  Select   \n",
       "1                        No          Select  Select   \n",
       "2                        No  Potential Lead  Mumbai   \n",
       "3                        No          Select  Mumbai   \n",
       "4                        No          Select  Mumbai   \n",
       "\n",
       "  Asymmetrique Activity Index Asymmetrique Profile Index  \\\n",
       "0                   02.Medium                  02.Medium   \n",
       "1                   02.Medium                  02.Medium   \n",
       "2                   02.Medium                    01.High   \n",
       "3                   02.Medium                    01.High   \n",
       "4                   02.Medium                    01.High   \n",
       "\n",
       "  Asymmetrique Activity Score Asymmetrique Profile Score  \\\n",
       "0                        15.0                       15.0   \n",
       "1                        15.0                       15.0   \n",
       "2                        14.0                       20.0   \n",
       "3                        13.0                       17.0   \n",
       "4                        15.0                       18.0   \n",
       "\n",
       "  I agree to pay the amount through cheque  \\\n",
       "0                                       No   \n",
       "1                                       No   \n",
       "2                                       No   \n",
       "3                                       No   \n",
       "4                                       No   \n",
       "\n",
       "  A free copy of Mastering The Interview Last Notable Activity  \n",
       "0                                     No              Modified  \n",
       "1                                     No          Email Opened  \n",
       "2                                    Yes          Email Opened  \n",
       "3                                     No              Modified  \n",
       "4                                     No              Modified  \n",
       "\n",
       "[5 rows x 37 columns]"
      ]
     },
     "execution_count": 469,
     "metadata": {},
     "output_type": "execute_result"
    }
   ],
   "source": [
    "lead_data = pd.read_csv(\"Leads.csv\")\n",
    "lead_data.head()"
   ]
  },
  {
   "cell_type": "code",
   "execution_count": 470,
   "id": "a2d747c1",
   "metadata": {},
   "outputs": [
    {
     "data": {
      "text/plain": [
       "(9240, 37)"
      ]
     },
     "execution_count": 470,
     "metadata": {},
     "output_type": "execute_result"
    }
   ],
   "source": [
    "lead_data.shape"
   ]
  },
  {
   "cell_type": "code",
   "execution_count": 471,
   "id": "693f86f1",
   "metadata": {},
   "outputs": [
    {
     "name": "stdout",
     "output_type": "stream",
     "text": [
      "<class 'pandas.core.frame.DataFrame'>\n",
      "RangeIndex: 9240 entries, 0 to 9239\n",
      "Data columns (total 37 columns):\n",
      " #   Column                                         Non-Null Count  Dtype  \n",
      "---  ------                                         --------------  -----  \n",
      " 0   Prospect ID                                    9240 non-null   object \n",
      " 1   Lead Number                                    9240 non-null   int64  \n",
      " 2   Lead Origin                                    9240 non-null   object \n",
      " 3   Lead Source                                    9204 non-null   object \n",
      " 4   Do Not Email                                   9240 non-null   object \n",
      " 5   Do Not Call                                    9240 non-null   object \n",
      " 6   Converted                                      9240 non-null   int64  \n",
      " 7   TotalVisits                                    9103 non-null   float64\n",
      " 8   Total Time Spent on Website                    9240 non-null   int64  \n",
      " 9   Page Views Per Visit                           9103 non-null   float64\n",
      " 10  Last Activity                                  9137 non-null   object \n",
      " 11  Country                                        6779 non-null   object \n",
      " 12  Specialization                                 7802 non-null   object \n",
      " 13  How did you hear about X Education             7033 non-null   object \n",
      " 14  What is your current occupation                6550 non-null   object \n",
      " 15  What matters most to you in choosing a course  6531 non-null   object \n",
      " 16  Search                                         9240 non-null   object \n",
      " 17  Magazine                                       9240 non-null   object \n",
      " 18  Newspaper Article                              9240 non-null   object \n",
      " 19  X Education Forums                             9240 non-null   object \n",
      " 20  Newspaper                                      9240 non-null   object \n",
      " 21  Digital Advertisement                          9240 non-null   object \n",
      " 22  Through Recommendations                        9240 non-null   object \n",
      " 23  Receive More Updates About Our Courses         9240 non-null   object \n",
      " 24  Tags                                           5887 non-null   object \n",
      " 25  Lead Quality                                   4473 non-null   object \n",
      " 26  Update me on Supply Chain Content              9240 non-null   object \n",
      " 27  Get updates on DM Content                      9240 non-null   object \n",
      " 28  Lead Profile                                   6531 non-null   object \n",
      " 29  City                                           7820 non-null   object \n",
      " 30  Asymmetrique Activity Index                    5022 non-null   object \n",
      " 31  Asymmetrique Profile Index                     5022 non-null   object \n",
      " 32  Asymmetrique Activity Score                    5022 non-null   float64\n",
      " 33  Asymmetrique Profile Score                     5022 non-null   float64\n",
      " 34  I agree to pay the amount through cheque       9240 non-null   object \n",
      " 35  A free copy of Mastering The Interview         9240 non-null   object \n",
      " 36  Last Notable Activity                          9240 non-null   object \n",
      "dtypes: float64(4), int64(3), object(30)\n",
      "memory usage: 2.6+ MB\n"
     ]
    }
   ],
   "source": [
    "lead_data.info()"
   ]
  },
  {
   "cell_type": "markdown",
   "id": "63bace5d",
   "metadata": {},
   "source": [
    "### Handling missing values"
   ]
  },
  {
   "cell_type": "code",
   "execution_count": 472,
   "id": "21d1a59e",
   "metadata": {},
   "outputs": [
    {
     "data": {
      "text/plain": [
       "Lead Quality                                     52.0\n",
       "Asymmetrique Profile Score                       46.0\n",
       "Asymmetrique Activity Score                      46.0\n",
       "Asymmetrique Profile Index                       46.0\n",
       "Asymmetrique Activity Index                      46.0\n",
       "Tags                                             36.0\n",
       "What is your current occupation                  29.0\n",
       "Lead Profile                                     29.0\n",
       "What matters most to you in choosing a course    29.0\n",
       "Country                                          27.0\n",
       "How did you hear about X Education               24.0\n",
       "Specialization                                   16.0\n",
       "City                                             15.0\n",
       "Last Activity                                     1.0\n",
       "Page Views Per Visit                              1.0\n",
       "TotalVisits                                       1.0\n",
       "Receive More Updates About Our Courses            0.0\n",
       "I agree to pay the amount through cheque          0.0\n",
       "Get updates on DM Content                         0.0\n",
       "Update me on Supply Chain Content                 0.0\n",
       "A free copy of Mastering The Interview            0.0\n",
       "Prospect ID                                       0.0\n",
       "Newspaper Article                                 0.0\n",
       "Through Recommendations                           0.0\n",
       "Digital Advertisement                             0.0\n",
       "Newspaper                                         0.0\n",
       "X Education Forums                                0.0\n",
       "Lead Number                                       0.0\n",
       "Magazine                                          0.0\n",
       "Search                                            0.0\n",
       "Total Time Spent on Website                       0.0\n",
       "Converted                                         0.0\n",
       "Do Not Call                                       0.0\n",
       "Do Not Email                                      0.0\n",
       "Lead Source                                       0.0\n",
       "Lead Origin                                       0.0\n",
       "Last Notable Activity                             0.0\n",
       "dtype: float64"
      ]
     },
     "execution_count": 472,
     "metadata": {},
     "output_type": "execute_result"
    }
   ],
   "source": [
    "round(100*(lead_data.isnull().sum()/len(lead_data))).sort_values(ascending=False)"
   ]
  },
  {
   "cell_type": "markdown",
   "id": "08577770",
   "metadata": {},
   "source": [
    "#### Dropping columns with more than 45% of missing values"
   ]
  },
  {
   "cell_type": "code",
   "execution_count": 473,
   "id": "9e931ab3",
   "metadata": {},
   "outputs": [],
   "source": [
    "lead_data = lead_data.drop(columns= ['Lead Quality','Asymmetrique Profile Score','Asymmetrique Activity Score',\n",
    "                                     'Asymmetrique Profile Index','Asymmetrique Activity Index','Tags'])"
   ]
  },
  {
   "cell_type": "code",
   "execution_count": 474,
   "id": "1b4ee7cd",
   "metadata": {},
   "outputs": [
    {
     "data": {
      "text/plain": [
       "(9240, 31)"
      ]
     },
     "execution_count": 474,
     "metadata": {},
     "output_type": "execute_result"
    }
   ],
   "source": [
    "lead_data.shape"
   ]
  },
  {
   "cell_type": "code",
   "execution_count": 475,
   "id": "a0966a6e",
   "metadata": {},
   "outputs": [
    {
     "name": "stdout",
     "output_type": "stream",
     "text": [
      "<class 'pandas.core.frame.DataFrame'>\n",
      "RangeIndex: 9240 entries, 0 to 9239\n",
      "Data columns (total 31 columns):\n",
      " #   Column                                         Non-Null Count  Dtype  \n",
      "---  ------                                         --------------  -----  \n",
      " 0   Prospect ID                                    9240 non-null   object \n",
      " 1   Lead Number                                    9240 non-null   int64  \n",
      " 2   Lead Origin                                    9240 non-null   object \n",
      " 3   Lead Source                                    9204 non-null   object \n",
      " 4   Do Not Email                                   9240 non-null   object \n",
      " 5   Do Not Call                                    9240 non-null   object \n",
      " 6   Converted                                      9240 non-null   int64  \n",
      " 7   TotalVisits                                    9103 non-null   float64\n",
      " 8   Total Time Spent on Website                    9240 non-null   int64  \n",
      " 9   Page Views Per Visit                           9103 non-null   float64\n",
      " 10  Last Activity                                  9137 non-null   object \n",
      " 11  Country                                        6779 non-null   object \n",
      " 12  Specialization                                 7802 non-null   object \n",
      " 13  How did you hear about X Education             7033 non-null   object \n",
      " 14  What is your current occupation                6550 non-null   object \n",
      " 15  What matters most to you in choosing a course  6531 non-null   object \n",
      " 16  Search                                         9240 non-null   object \n",
      " 17  Magazine                                       9240 non-null   object \n",
      " 18  Newspaper Article                              9240 non-null   object \n",
      " 19  X Education Forums                             9240 non-null   object \n",
      " 20  Newspaper                                      9240 non-null   object \n",
      " 21  Digital Advertisement                          9240 non-null   object \n",
      " 22  Through Recommendations                        9240 non-null   object \n",
      " 23  Receive More Updates About Our Courses         9240 non-null   object \n",
      " 24  Update me on Supply Chain Content              9240 non-null   object \n",
      " 25  Get updates on DM Content                      9240 non-null   object \n",
      " 26  Lead Profile                                   6531 non-null   object \n",
      " 27  City                                           7820 non-null   object \n",
      " 28  I agree to pay the amount through cheque       9240 non-null   object \n",
      " 29  A free copy of Mastering The Interview         9240 non-null   object \n",
      " 30  Last Notable Activity                          9240 non-null   object \n",
      "dtypes: float64(2), int64(3), object(26)\n",
      "memory usage: 2.2+ MB\n"
     ]
    }
   ],
   "source": [
    "lead_data.info()"
   ]
  },
  {
   "cell_type": "code",
   "execution_count": 476,
   "id": "ab53ecbf",
   "metadata": {},
   "outputs": [
    {
     "data": {
      "text/plain": [
       "What matters most to you in choosing a course    29.0\n",
       "What is your current occupation                  29.0\n",
       "Lead Profile                                     29.0\n",
       "Country                                          27.0\n",
       "How did you hear about X Education               24.0\n",
       "Specialization                                   16.0\n",
       "City                                             15.0\n",
       "Last Activity                                     1.0\n",
       "Page Views Per Visit                              1.0\n",
       "TotalVisits                                       1.0\n",
       "X Education Forums                                0.0\n",
       "Update me on Supply Chain Content                 0.0\n",
       "Get updates on DM Content                         0.0\n",
       "I agree to pay the amount through cheque          0.0\n",
       "A free copy of Mastering The Interview            0.0\n",
       "Receive More Updates About Our Courses            0.0\n",
       "Through Recommendations                           0.0\n",
       "Digital Advertisement                             0.0\n",
       "Newspaper                                         0.0\n",
       "Prospect ID                                       0.0\n",
       "Newspaper Article                                 0.0\n",
       "Magazine                                          0.0\n",
       "Search                                            0.0\n",
       "Lead Number                                       0.0\n",
       "Total Time Spent on Website                       0.0\n",
       "Converted                                         0.0\n",
       "Do Not Call                                       0.0\n",
       "Do Not Email                                      0.0\n",
       "Lead Source                                       0.0\n",
       "Lead Origin                                       0.0\n",
       "Last Notable Activity                             0.0\n",
       "dtype: float64"
      ]
     },
     "execution_count": 476,
     "metadata": {},
     "output_type": "execute_result"
    }
   ],
   "source": [
    "round(100*(lead_data.isnull().sum()/len(lead_data))).sort_values(ascending=False)"
   ]
  },
  {
   "cell_type": "markdown",
   "id": "beb0592f",
   "metadata": {},
   "source": [
    "Dropping Lead profile as it has \"select\" and Nan values contributing almost 74 % of the total data"
   ]
  },
  {
   "cell_type": "code",
   "execution_count": 477,
   "id": "172be8c2",
   "metadata": {},
   "outputs": [
    {
     "data": {
      "text/plain": [
       "Lead Profile\n",
       "Select                         0.448701\n",
       "NaN                            0.293182\n",
       "Potential Lead                 0.174567\n",
       "Other Leads                    0.052706\n",
       "Student of SomeSchool          0.026082\n",
       "Lateral Student                0.002597\n",
       "Dual Specialization Student    0.002165\n",
       "Name: count, dtype: float64"
      ]
     },
     "execution_count": 477,
     "metadata": {},
     "output_type": "execute_result"
    }
   ],
   "source": [
    "lead_data[\"Lead Profile\"].value_counts(dropna=False)/len(lead_data)"
   ]
  },
  {
   "cell_type": "code",
   "execution_count": 478,
   "id": "309be566",
   "metadata": {},
   "outputs": [],
   "source": [
    "lead_data = lead_data.drop(\"Lead Profile\",axis=1)"
   ]
  },
  {
   "cell_type": "markdown",
   "id": "1394e49c",
   "metadata": {},
   "source": [
    "Dropping \"What matters most to you in choosing a course\" column as it has Better Career Prospects as the value\n",
    "for almost 70 percent of data. Hence it wont be important for our analysis."
   ]
  },
  {
   "cell_type": "code",
   "execution_count": 479,
   "id": "5ed0897f",
   "metadata": {},
   "outputs": [
    {
     "data": {
      "text/plain": [
       "What matters most to you in choosing a course\n",
       "Better Career Prospects      0.706494\n",
       "Flexibility & Convenience    0.000216\n",
       "Other                        0.000108\n",
       "Name: count, dtype: float64"
      ]
     },
     "execution_count": 479,
     "metadata": {},
     "output_type": "execute_result"
    }
   ],
   "source": [
    "lead_data[\"What matters most to you in choosing a course\"].value_counts()/len(lead_data)\n"
   ]
  },
  {
   "cell_type": "code",
   "execution_count": 480,
   "id": "066921e8",
   "metadata": {},
   "outputs": [],
   "source": [
    "lead_data = lead_data.drop(\"What matters most to you in choosing a course\",axis=1)"
   ]
  },
  {
   "cell_type": "markdown",
   "id": "43da961b",
   "metadata": {},
   "source": [
    "Dropping \"What is your current occupation\" as majority are unemployed and this wont add any additional insights\n",
    "to our analysis."
   ]
  },
  {
   "cell_type": "code",
   "execution_count": 481,
   "id": "ebdc35a2",
   "metadata": {},
   "outputs": [
    {
     "data": {
      "text/plain": [
       "What is your current occupation\n",
       "Unemployed              0.606061\n",
       "Working Professional    0.076407\n",
       "Student                 0.022727\n",
       "Other                   0.001732\n",
       "Housewife               0.001082\n",
       "Businessman             0.000866\n",
       "Name: count, dtype: float64"
      ]
     },
     "execution_count": 481,
     "metadata": {},
     "output_type": "execute_result"
    }
   ],
   "source": [
    "lead_data[\"What is your current occupation\"].value_counts()/len(lead_data)\n"
   ]
  },
  {
   "cell_type": "code",
   "execution_count": 482,
   "id": "d255a039",
   "metadata": {},
   "outputs": [],
   "source": [
    "lead_data = lead_data.drop(\"What is your current occupation\",axis=1)"
   ]
  },
  {
   "cell_type": "markdown",
   "id": "f463f9d8",
   "metadata": {},
   "source": [
    "Dropping the column Country as India contributes 70 percent of data and rest of the countries are very less\n",
    "in number."
   ]
  },
  {
   "cell_type": "code",
   "execution_count": 483,
   "id": "fdb086a9",
   "metadata": {},
   "outputs": [
    {
     "data": {
      "text/plain": [
       "Country\n",
       "India                   0.702597\n",
       "United States           0.007468\n",
       "United Arab Emirates    0.005736\n",
       "Singapore               0.002597\n",
       "Saudi Arabia            0.002273\n",
       "United Kingdom          0.001623\n",
       "Australia               0.001407\n",
       "Qatar                   0.001082\n",
       "Hong Kong               0.000758\n",
       "Bahrain                 0.000758\n",
       "Oman                    0.000649\n",
       "France                  0.000649\n",
       "unknown                 0.000541\n",
       "South Africa            0.000433\n",
       "Nigeria                 0.000433\n",
       "Germany                 0.000433\n",
       "Kuwait                  0.000433\n",
       "Canada                  0.000433\n",
       "Sweden                  0.000325\n",
       "China                   0.000216\n",
       "Asia/Pacific Region     0.000216\n",
       "Uganda                  0.000216\n",
       "Bangladesh              0.000216\n",
       "Italy                   0.000216\n",
       "Belgium                 0.000216\n",
       "Netherlands             0.000216\n",
       "Ghana                   0.000216\n",
       "Philippines             0.000216\n",
       "Russia                  0.000108\n",
       "Switzerland             0.000108\n",
       "Vietnam                 0.000108\n",
       "Denmark                 0.000108\n",
       "Tanzania                0.000108\n",
       "Liberia                 0.000108\n",
       "Malaysia                0.000108\n",
       "Kenya                   0.000108\n",
       "Sri Lanka               0.000108\n",
       "Indonesia               0.000108\n",
       "Name: count, dtype: float64"
      ]
     },
     "execution_count": 483,
     "metadata": {},
     "output_type": "execute_result"
    }
   ],
   "source": [
    "lead_data[\"Country\"].value_counts()/len(lead_data)"
   ]
  },
  {
   "cell_type": "code",
   "execution_count": 484,
   "id": "240a69c7",
   "metadata": {},
   "outputs": [],
   "source": [
    "lead_data = lead_data.drop(\"Country\",axis=1)"
   ]
  },
  {
   "cell_type": "markdown",
   "id": "9677e27d",
   "metadata": {},
   "source": [
    "Dropping the below field as it has more than 77 percent of data having either select or null value"
   ]
  },
  {
   "cell_type": "code",
   "execution_count": 485,
   "id": "a14bffee",
   "metadata": {},
   "outputs": [
    {
     "data": {
      "text/plain": [
       "How did you hear about X Education\n",
       "Select                   0.545779\n",
       "NaN                      0.238853\n",
       "Online Search            0.087446\n",
       "Word Of Mouth            0.037662\n",
       "Student of SomeSchool    0.033550\n",
       "Other                    0.020130\n",
       "Multiple Sources         0.016450\n",
       "Advertisements           0.007576\n",
       "Social Media             0.007251\n",
       "Email                    0.002814\n",
       "SMS                      0.002489\n",
       "Name: count, dtype: float64"
      ]
     },
     "execution_count": 485,
     "metadata": {},
     "output_type": "execute_result"
    }
   ],
   "source": [
    "lead_data[\"How did you hear about X Education\"].value_counts(dropna=False)/len(lead_data)"
   ]
  },
  {
   "cell_type": "code",
   "execution_count": 486,
   "id": "7c5d117d",
   "metadata": {},
   "outputs": [],
   "source": [
    "lead_data= lead_data.drop(\"How did you hear about X Education\",axis=1)"
   ]
  },
  {
   "cell_type": "code",
   "execution_count": 487,
   "id": "95f2a0fa",
   "metadata": {},
   "outputs": [
    {
     "data": {
      "text/plain": [
       "Specialization                              16.0\n",
       "City                                        15.0\n",
       "TotalVisits                                  1.0\n",
       "Page Views Per Visit                         1.0\n",
       "Last Activity                                1.0\n",
       "Prospect ID                                  0.0\n",
       "X Education Forums                           0.0\n",
       "A free copy of Mastering The Interview       0.0\n",
       "I agree to pay the amount through cheque     0.0\n",
       "Get updates on DM Content                    0.0\n",
       "Update me on Supply Chain Content            0.0\n",
       "Receive More Updates About Our Courses       0.0\n",
       "Through Recommendations                      0.0\n",
       "Digital Advertisement                        0.0\n",
       "Newspaper                                    0.0\n",
       "Magazine                                     0.0\n",
       "Newspaper Article                            0.0\n",
       "Lead Number                                  0.0\n",
       "Search                                       0.0\n",
       "Total Time Spent on Website                  0.0\n",
       "Converted                                    0.0\n",
       "Do Not Call                                  0.0\n",
       "Do Not Email                                 0.0\n",
       "Lead Source                                  0.0\n",
       "Lead Origin                                  0.0\n",
       "Last Notable Activity                        0.0\n",
       "dtype: float64"
      ]
     },
     "execution_count": 487,
     "metadata": {},
     "output_type": "execute_result"
    }
   ],
   "source": [
    "round(100*(lead_data.isnull().sum()/len(lead_data))).sort_values(ascending=False)"
   ]
  },
  {
   "cell_type": "markdown",
   "id": "9b0fb956",
   "metadata": {},
   "source": [
    "Dropping the below columns as it least significant in our analysis"
   ]
  },
  {
   "cell_type": "code",
   "execution_count": 488,
   "id": "cfab42de",
   "metadata": {},
   "outputs": [],
   "source": [
    "drop_cols=[\"Do Not Email\",\"Do Not Call\",\"Newspaper\",\"Search\",\"Magazine\",\"X Education Forums\",\n",
    "         \"Newspaper Article\",\"Digital Advertisement\",\"Through Recommendations\",\"Receive More Updates About Our Courses\",\n",
    "         \"Update me on Supply Chain Content\",\"Get updates on DM Content\",\"I agree to pay the amount through cheque\",\n",
    "         \"A free copy of Mastering The Interview\",\"City\"]\n",
    "\n",
    "\n",
    "lead_data = lead_data.drop(columns=drop_cols)"
   ]
  },
  {
   "cell_type": "markdown",
   "id": "0406cebd",
   "metadata": {},
   "source": [
    "Replacing \"Select\" value of Specialization with \"not provided\" as this column is important,\n",
    "It cannot be dropped."
   ]
  },
  {
   "cell_type": "code",
   "execution_count": 489,
   "id": "db64f8ef",
   "metadata": {},
   "outputs": [],
   "source": [
    "lead_data[\"Specialization\"].value_counts(dropna=False)\n",
    "lead_data[\"Specialization\"]= lead_data[\"Specialization\"].replace(\"Select\",\"Not provided\")"
   ]
  },
  {
   "cell_type": "markdown",
   "id": "aa2c3132",
   "metadata": {},
   "source": [
    "Dropping the rows with null values for Specialization,TotalVisits,\n",
    "Page Views Per Visit and Last Activity"
   ]
  },
  {
   "cell_type": "code",
   "execution_count": 490,
   "id": "db27eb02",
   "metadata": {},
   "outputs": [],
   "source": [
    "lead_data = lead_data[~lead_data[\"Specialization\"].isnull()]"
   ]
  },
  {
   "cell_type": "code",
   "execution_count": 491,
   "id": "52af4dea",
   "metadata": {},
   "outputs": [],
   "source": [
    "lead_data = lead_data[~lead_data[\"TotalVisits\"].isnull()]"
   ]
  },
  {
   "cell_type": "code",
   "execution_count": 492,
   "id": "b4308ac8",
   "metadata": {},
   "outputs": [],
   "source": [
    "lead_data = lead_data[~lead_data[\"Page Views Per Visit\"].isnull()]"
   ]
  },
  {
   "cell_type": "code",
   "execution_count": 493,
   "id": "00c2fc06",
   "metadata": {},
   "outputs": [],
   "source": [
    "lead_data = lead_data[~lead_data[\"Last Activity\"].isnull()]"
   ]
  },
  {
   "cell_type": "code",
   "execution_count": 494,
   "id": "4c7032c9",
   "metadata": {},
   "outputs": [
    {
     "data": {
      "text/plain": [
       "Prospect ID                    0.0\n",
       "Lead Number                    0.0\n",
       "Lead Origin                    0.0\n",
       "Lead Source                    0.0\n",
       "Converted                      0.0\n",
       "TotalVisits                    0.0\n",
       "Total Time Spent on Website    0.0\n",
       "Page Views Per Visit           0.0\n",
       "Last Activity                  0.0\n",
       "Specialization                 0.0\n",
       "Last Notable Activity          0.0\n",
       "dtype: float64"
      ]
     },
     "execution_count": 494,
     "metadata": {},
     "output_type": "execute_result"
    }
   ],
   "source": [
    "round(100*(lead_data.isnull().sum()/len(lead_data))).sort_values(ascending=False)\n"
   ]
  },
  {
   "cell_type": "markdown",
   "id": "ee462be2",
   "metadata": {},
   "source": [
    "Prospect ID and Lead Number also doesnt make any insights to the analysis"
   ]
  },
  {
   "cell_type": "code",
   "execution_count": 495,
   "id": "7d484db6",
   "metadata": {},
   "outputs": [],
   "source": [
    "lead_data = lead_data.drop(columns=[\"Prospect ID\",\"Lead Number\"])"
   ]
  },
  {
   "cell_type": "code",
   "execution_count": 496,
   "id": "d457a43f",
   "metadata": {},
   "outputs": [
    {
     "data": {
      "text/plain": [
       "Lead Origin                    0.0\n",
       "Lead Source                    0.0\n",
       "Converted                      0.0\n",
       "TotalVisits                    0.0\n",
       "Total Time Spent on Website    0.0\n",
       "Page Views Per Visit           0.0\n",
       "Last Activity                  0.0\n",
       "Specialization                 0.0\n",
       "Last Notable Activity          0.0\n",
       "dtype: float64"
      ]
     },
     "execution_count": 496,
     "metadata": {},
     "output_type": "execute_result"
    }
   ],
   "source": [
    "round(100*(lead_data.isnull().sum()/len(lead_data))).sort_values(ascending=False)\n"
   ]
  },
  {
   "cell_type": "markdown",
   "id": "886e320c",
   "metadata": {},
   "source": [
    "### Data Visualization"
   ]
  },
  {
   "cell_type": "markdown",
   "id": "2c2f2896",
   "metadata": {},
   "source": [
    "Visulaizing numerical variables using pairplot"
   ]
  },
  {
   "cell_type": "code",
   "execution_count": 497,
   "id": "2fe492c1",
   "metadata": {},
   "outputs": [
    {
     "data": {
      "text/plain": [
       "<Figure size 1000x500 with 0 Axes>"
      ]
     },
     "metadata": {},
     "output_type": "display_data"
    },
    {
     "data": {
      "image/png": "[encoded data removed]",
      "text/plain": [
       "<Figure size 833.486x750 with 12 Axes>"
      ]
     },
     "metadata": {},
     "output_type": "display_data"
    }
   ],
   "source": [
    "plt.figure(figsize=(10, 5))\n",
    "sns.pairplot(data=lead_data,hue=\"Converted\")\n",
    "plt.show()"
   ]
  },
  {
   "cell_type": "markdown",
   "id": "9624a20c",
   "metadata": {},
   "source": [
    "We can see that as the total time spent on the website increases, the conversion rate also increases."
   ]
  },
  {
   "cell_type": "markdown",
   "id": "3357c872",
   "metadata": {},
   "source": [
    "Visualizing Categorical variables"
   ]
  },
  {
   "cell_type": "code",
   "execution_count": 498,
   "id": "a7bd6161",
   "metadata": {},
   "outputs": [
    {
     "data": {
      "text/plain": [
       "Index(['Lead Origin', 'Lead Source', 'Last Activity', 'Specialization',\n",
       "       'Last Notable Activity'],\n",
       "      dtype='object')"
      ]
     },
     "execution_count": 498,
     "metadata": {},
     "output_type": "execute_result"
    }
   ],
   "source": [
    "car_list = lead_data.select_dtypes(include ='object').columns\n",
    "car_list"
   ]
  },
  {
   "cell_type": "code",
   "execution_count": 499,
   "id": "c3b794d6",
   "metadata": {},
   "outputs": [
    {
     "data": {
      "image/png": "[encoded data removed]",
      "text/plain": [
       "<Figure size 500x500 with 1 Axes>"
      ]
     },
     "metadata": {},
     "output_type": "display_data"
    },
    {
     "data": {
      "image/png": "[encoded data removed]",
      "text/plain": [
       "<Figure size 500x500 with 1 Axes>"
      ]
     },
     "metadata": {},
     "output_type": "display_data"
    },
    {
     "data": {
      "image/png": "[encoded data removed]",
      "text/plain": [
       "<Figure size 500x500 with 1 Axes>"
      ]
     },
     "metadata": {},
     "output_type": "display_data"
    },
    {
     "data": {
      "image/png": "[encoded data removed]",
      "text/plain": [
       "<Figure size 500x500 with 1 Axes>"
      ]
     },
     "metadata": {},
     "output_type": "display_data"
    },
    {
     "data": {
      "image/png": "[encoded data removed]",
      "text/plain": [
       "<Figure size 500x500 with 1 Axes>"
      ]
     },
     "metadata": {},
     "output_type": "display_data"
    }
   ],
   "source": [
    " for i in car_list:\n",
    "    plt.figure(figsize=[5,5])  \n",
    "\n",
    "    sns.countplot(x= lead_data[i],data=lead_data,hue=\"Converted\")\n",
    "    plt.xticks(rotation=90)\n",
    "    plt.show()\n",
    "        "
   ]
  },
  {
   "cell_type": "markdown",
   "id": "35c66c84",
   "metadata": {},
   "source": [
    "Plotting heatmap to find the correlation"
   ]
  },
  {
   "cell_type": "code",
   "execution_count": 500,
   "id": "ae0a40a7",
   "metadata": {},
   "outputs": [],
   "source": [
    "\n",
    "corr=lead_data.corr(numeric_only=True)"
   ]
  },
  {
   "cell_type": "code",
   "execution_count": 501,
   "id": "3f0e9b3b",
   "metadata": {},
   "outputs": [
    {
     "data": {
      "text/plain": [
       "<Axes: >"
      ]
     },
     "execution_count": 501,
     "metadata": {},
     "output_type": "execute_result"
    },
    {
     "data": {
      "image/png": "[encoded data removed]",
      "text/plain": [
       "<Figure size 500x300 with 2 Axes>"
      ]
     },
     "metadata": {},
     "output_type": "display_data"
    }
   ],
   "source": [
    "plt.figure(figsize=[5,3])\n",
    "sns.heatmap(data=corr,annot=True,cmap='Greens')"
   ]
  },
  {
   "cell_type": "markdown",
   "id": "b2ffaf14",
   "metadata": {},
   "source": [
    "## Creating dummy variables"
   ]
  },
  {
   "cell_type": "code",
   "execution_count": 502,
   "id": "99e4b3be",
   "metadata": {},
   "outputs": [],
   "source": [
    "lead_data = pd.get_dummies(lead_data,drop_first= True,dtype=int)"
   ]
  },
  {
   "cell_type": "code",
   "execution_count": 503,
   "id": "4429af3c",
   "metadata": {},
   "outputs": [
    {
     "data": {
      "text/html": [
       "<div>\n",
       "<style scoped>\n",
       "    .dataframe tbody tr th:only-of-type {\n",
       "        vertical-align: middle;\n",
       "    }\n",
       "\n",
       "    .dataframe tbody tr th {\n",
       "        vertical-align: top;\n",
       "    }\n",
       "\n",
       "    .dataframe thead th {\n",
       "        text-align: right;\n",
       "    }\n",
       "</style>\n",
       "<table border=\"1\" class=\"dataframe\">\n",
       "  <thead>\n",
       "    <tr style=\"text-align: right;\">\n",
       "      <th></th>\n",
       "      <th>Converted</th>\n",
       "      <th>TotalVisits</th>\n",
       "      <th>Total Time Spent on Website</th>\n",
       "      <th>Page Views Per Visit</th>\n",
       "      <th>Lead Origin_Landing Page Submission</th>\n",
       "      <th>Lead Origin_Lead Add Form</th>\n",
       "      <th>Lead Origin_Lead Import</th>\n",
       "      <th>Lead Source_Direct Traffic</th>\n",
       "      <th>Lead Source_Facebook</th>\n",
       "      <th>Lead Source_Google</th>\n",
       "      <th>...</th>\n",
       "      <th>Last Notable Activity_Email Received</th>\n",
       "      <th>Last Notable Activity_Form Submitted on Website</th>\n",
       "      <th>Last Notable Activity_Had a Phone Conversation</th>\n",
       "      <th>Last Notable Activity_Modified</th>\n",
       "      <th>Last Notable Activity_Olark Chat Conversation</th>\n",
       "      <th>Last Notable Activity_Page Visited on Website</th>\n",
       "      <th>Last Notable Activity_SMS Sent</th>\n",
       "      <th>Last Notable Activity_Unreachable</th>\n",
       "      <th>Last Notable Activity_Unsubscribed</th>\n",
       "      <th>Last Notable Activity_View in browser link Clicked</th>\n",
       "    </tr>\n",
       "  </thead>\n",
       "  <tbody>\n",
       "    <tr>\n",
       "      <th>0</th>\n",
       "      <td>0</td>\n",
       "      <td>0.0</td>\n",
       "      <td>0</td>\n",
       "      <td>0.0</td>\n",
       "      <td>0</td>\n",
       "      <td>0</td>\n",
       "      <td>0</td>\n",
       "      <td>0</td>\n",
       "      <td>0</td>\n",
       "      <td>0</td>\n",
       "      <td>...</td>\n",
       "      <td>0</td>\n",
       "      <td>0</td>\n",
       "      <td>0</td>\n",
       "      <td>1</td>\n",
       "      <td>0</td>\n",
       "      <td>0</td>\n",
       "      <td>0</td>\n",
       "      <td>0</td>\n",
       "      <td>0</td>\n",
       "      <td>0</td>\n",
       "    </tr>\n",
       "    <tr>\n",
       "      <th>1</th>\n",
       "      <td>0</td>\n",
       "      <td>5.0</td>\n",
       "      <td>674</td>\n",
       "      <td>2.5</td>\n",
       "      <td>0</td>\n",
       "      <td>0</td>\n",
       "      <td>0</td>\n",
       "      <td>0</td>\n",
       "      <td>0</td>\n",
       "      <td>0</td>\n",
       "      <td>...</td>\n",
       "      <td>0</td>\n",
       "      <td>0</td>\n",
       "      <td>0</td>\n",
       "      <td>0</td>\n",
       "      <td>0</td>\n",
       "      <td>0</td>\n",
       "      <td>0</td>\n",
       "      <td>0</td>\n",
       "      <td>0</td>\n",
       "      <td>0</td>\n",
       "    </tr>\n",
       "    <tr>\n",
       "      <th>2</th>\n",
       "      <td>1</td>\n",
       "      <td>2.0</td>\n",
       "      <td>1532</td>\n",
       "      <td>2.0</td>\n",
       "      <td>1</td>\n",
       "      <td>0</td>\n",
       "      <td>0</td>\n",
       "      <td>1</td>\n",
       "      <td>0</td>\n",
       "      <td>0</td>\n",
       "      <td>...</td>\n",
       "      <td>0</td>\n",
       "      <td>0</td>\n",
       "      <td>0</td>\n",
       "      <td>0</td>\n",
       "      <td>0</td>\n",
       "      <td>0</td>\n",
       "      <td>0</td>\n",
       "      <td>0</td>\n",
       "      <td>0</td>\n",
       "      <td>0</td>\n",
       "    </tr>\n",
       "    <tr>\n",
       "      <th>3</th>\n",
       "      <td>0</td>\n",
       "      <td>1.0</td>\n",
       "      <td>305</td>\n",
       "      <td>1.0</td>\n",
       "      <td>1</td>\n",
       "      <td>0</td>\n",
       "      <td>0</td>\n",
       "      <td>1</td>\n",
       "      <td>0</td>\n",
       "      <td>0</td>\n",
       "      <td>...</td>\n",
       "      <td>0</td>\n",
       "      <td>0</td>\n",
       "      <td>0</td>\n",
       "      <td>1</td>\n",
       "      <td>0</td>\n",
       "      <td>0</td>\n",
       "      <td>0</td>\n",
       "      <td>0</td>\n",
       "      <td>0</td>\n",
       "      <td>0</td>\n",
       "    </tr>\n",
       "    <tr>\n",
       "      <th>4</th>\n",
       "      <td>1</td>\n",
       "      <td>2.0</td>\n",
       "      <td>1428</td>\n",
       "      <td>1.0</td>\n",
       "      <td>1</td>\n",
       "      <td>0</td>\n",
       "      <td>0</td>\n",
       "      <td>0</td>\n",
       "      <td>0</td>\n",
       "      <td>1</td>\n",
       "      <td>...</td>\n",
       "      <td>0</td>\n",
       "      <td>0</td>\n",
       "      <td>0</td>\n",
       "      <td>1</td>\n",
       "      <td>0</td>\n",
       "      <td>0</td>\n",
       "      <td>0</td>\n",
       "      <td>0</td>\n",
       "      <td>0</td>\n",
       "      <td>0</td>\n",
       "    </tr>\n",
       "  </tbody>\n",
       "</table>\n",
       "<p>5 rows × 74 columns</p>\n",
       "</div>"
      ],
      "text/plain": [
       "   Converted  TotalVisits  Total Time Spent on Website  Page Views Per Visit  \\\n",
       "0          0          0.0                            0                   0.0   \n",
       "1          0          5.0                          674                   2.5   \n",
       "2          1          2.0                         1532                   2.0   \n",
       "3          0          1.0                          305                   1.0   \n",
       "4          1          2.0                         1428                   1.0   \n",
       "\n",
       "   Lead Origin_Landing Page Submission  Lead Origin_Lead Add Form  \\\n",
       "0                                    0                          0   \n",
       "1                                    0                          0   \n",
       "2                                    1                          0   \n",
       "3                                    1                          0   \n",
       "4                                    1                          0   \n",
       "\n",
       "   Lead Origin_Lead Import  Lead Source_Direct Traffic  Lead Source_Facebook  \\\n",
       "0                        0                           0                     0   \n",
       "1                        0                           0                     0   \n",
       "2                        0                           1                     0   \n",
       "3                        0                           1                     0   \n",
       "4                        0                           0                     0   \n",
       "\n",
       "   Lead Source_Google  ...  Last Notable Activity_Email Received  \\\n",
       "0                   0  ...                                     0   \n",
       "1                   0  ...                                     0   \n",
       "2                   0  ...                                     0   \n",
       "3                   0  ...                                     0   \n",
       "4                   1  ...                                     0   \n",
       "\n",
       "   Last Notable Activity_Form Submitted on Website  \\\n",
       "0                                                0   \n",
       "1                                                0   \n",
       "2                                                0   \n",
       "3                                                0   \n",
       "4                                                0   \n",
       "\n",
       "   Last Notable Activity_Had a Phone Conversation  \\\n",
       "0                                               0   \n",
       "1                                               0   \n",
       "2                                               0   \n",
       "3                                               0   \n",
       "4                                               0   \n",
       "\n",
       "   Last Notable Activity_Modified  \\\n",
       "0                               1   \n",
       "1                               0   \n",
       "2                               0   \n",
       "3                               1   \n",
       "4                               1   \n",
       "\n",
       "   Last Notable Activity_Olark Chat Conversation  \\\n",
       "0                                              0   \n",
       "1                                              0   \n",
       "2                                              0   \n",
       "3                                              0   \n",
       "4                                              0   \n",
       "\n",
       "   Last Notable Activity_Page Visited on Website  \\\n",
       "0                                              0   \n",
       "1                                              0   \n",
       "2                                              0   \n",
       "3                                              0   \n",
       "4                                              0   \n",
       "\n",
       "   Last Notable Activity_SMS Sent  Last Notable Activity_Unreachable  \\\n",
       "0                               0                                  0   \n",
       "1                               0                                  0   \n",
       "2                               0                                  0   \n",
       "3                               0                                  0   \n",
       "4                               0                                  0   \n",
       "\n",
       "   Last Notable Activity_Unsubscribed  \\\n",
       "0                                   0   \n",
       "1                                   0   \n",
       "2                                   0   \n",
       "3                                   0   \n",
       "4                                   0   \n",
       "\n",
       "   Last Notable Activity_View in browser link Clicked  \n",
       "0                                                  0   \n",
       "1                                                  0   \n",
       "2                                                  0   \n",
       "3                                                  0   \n",
       "4                                                  0   \n",
       "\n",
       "[5 rows x 74 columns]"
      ]
     },
     "execution_count": 503,
     "metadata": {},
     "output_type": "execute_result"
    }
   ],
   "source": [
    "lead_data.head()"
   ]
  },
  {
   "cell_type": "markdown",
   "id": "082e9610",
   "metadata": {},
   "source": [
    "## Test Train split"
   ]
  },
  {
   "cell_type": "code",
   "execution_count": 504,
   "id": "6f06e915",
   "metadata": {},
   "outputs": [],
   "source": [
    "X= lead_data.drop(\"Converted\",axis=1)\n",
    "y = lead_data[\"Converted\"]"
   ]
  },
  {
   "cell_type": "code",
   "execution_count": 505,
   "id": "8831bf8c",
   "metadata": {},
   "outputs": [
    {
     "data": {
      "text/html": [
       "<div>\n",
       "<style scoped>\n",
       "    .dataframe tbody tr th:only-of-type {\n",
       "        vertical-align: middle;\n",
       "    }\n",
       "\n",
       "    .dataframe tbody tr th {\n",
       "        vertical-align: top;\n",
       "    }\n",
       "\n",
       "    .dataframe thead th {\n",
       "        text-align: right;\n",
       "    }\n",
       "</style>\n",
       "<table border=\"1\" class=\"dataframe\">\n",
       "  <thead>\n",
       "    <tr style=\"text-align: right;\">\n",
       "      <th></th>\n",
       "      <th>TotalVisits</th>\n",
       "      <th>Total Time Spent on Website</th>\n",
       "      <th>Page Views Per Visit</th>\n",
       "      <th>Lead Origin_Landing Page Submission</th>\n",
       "      <th>Lead Origin_Lead Add Form</th>\n",
       "      <th>Lead Origin_Lead Import</th>\n",
       "      <th>Lead Source_Direct Traffic</th>\n",
       "      <th>Lead Source_Facebook</th>\n",
       "      <th>Lead Source_Google</th>\n",
       "      <th>Lead Source_Live Chat</th>\n",
       "      <th>...</th>\n",
       "      <th>Last Notable Activity_Email Received</th>\n",
       "      <th>Last Notable Activity_Form Submitted on Website</th>\n",
       "      <th>Last Notable Activity_Had a Phone Conversation</th>\n",
       "      <th>Last Notable Activity_Modified</th>\n",
       "      <th>Last Notable Activity_Olark Chat Conversation</th>\n",
       "      <th>Last Notable Activity_Page Visited on Website</th>\n",
       "      <th>Last Notable Activity_SMS Sent</th>\n",
       "      <th>Last Notable Activity_Unreachable</th>\n",
       "      <th>Last Notable Activity_Unsubscribed</th>\n",
       "      <th>Last Notable Activity_View in browser link Clicked</th>\n",
       "    </tr>\n",
       "  </thead>\n",
       "  <tbody>\n",
       "    <tr>\n",
       "      <th>0</th>\n",
       "      <td>0.0</td>\n",
       "      <td>0</td>\n",
       "      <td>0.0</td>\n",
       "      <td>0</td>\n",
       "      <td>0</td>\n",
       "      <td>0</td>\n",
       "      <td>0</td>\n",
       "      <td>0</td>\n",
       "      <td>0</td>\n",
       "      <td>0</td>\n",
       "      <td>...</td>\n",
       "      <td>0</td>\n",
       "      <td>0</td>\n",
       "      <td>0</td>\n",
       "      <td>1</td>\n",
       "      <td>0</td>\n",
       "      <td>0</td>\n",
       "      <td>0</td>\n",
       "      <td>0</td>\n",
       "      <td>0</td>\n",
       "      <td>0</td>\n",
       "    </tr>\n",
       "    <tr>\n",
       "      <th>1</th>\n",
       "      <td>5.0</td>\n",
       "      <td>674</td>\n",
       "      <td>2.5</td>\n",
       "      <td>0</td>\n",
       "      <td>0</td>\n",
       "      <td>0</td>\n",
       "      <td>0</td>\n",
       "      <td>0</td>\n",
       "      <td>0</td>\n",
       "      <td>0</td>\n",
       "      <td>...</td>\n",
       "      <td>0</td>\n",
       "      <td>0</td>\n",
       "      <td>0</td>\n",
       "      <td>0</td>\n",
       "      <td>0</td>\n",
       "      <td>0</td>\n",
       "      <td>0</td>\n",
       "      <td>0</td>\n",
       "      <td>0</td>\n",
       "      <td>0</td>\n",
       "    </tr>\n",
       "    <tr>\n",
       "      <th>2</th>\n",
       "      <td>2.0</td>\n",
       "      <td>1532</td>\n",
       "      <td>2.0</td>\n",
       "      <td>1</td>\n",
       "      <td>0</td>\n",
       "      <td>0</td>\n",
       "      <td>1</td>\n",
       "      <td>0</td>\n",
       "      <td>0</td>\n",
       "      <td>0</td>\n",
       "      <td>...</td>\n",
       "      <td>0</td>\n",
       "      <td>0</td>\n",
       "      <td>0</td>\n",
       "      <td>0</td>\n",
       "      <td>0</td>\n",
       "      <td>0</td>\n",
       "      <td>0</td>\n",
       "      <td>0</td>\n",
       "      <td>0</td>\n",
       "      <td>0</td>\n",
       "    </tr>\n",
       "    <tr>\n",
       "      <th>3</th>\n",
       "      <td>1.0</td>\n",
       "      <td>305</td>\n",
       "      <td>1.0</td>\n",
       "      <td>1</td>\n",
       "      <td>0</td>\n",
       "      <td>0</td>\n",
       "      <td>1</td>\n",
       "      <td>0</td>\n",
       "      <td>0</td>\n",
       "      <td>0</td>\n",
       "      <td>...</td>\n",
       "      <td>0</td>\n",
       "      <td>0</td>\n",
       "      <td>0</td>\n",
       "      <td>1</td>\n",
       "      <td>0</td>\n",
       "      <td>0</td>\n",
       "      <td>0</td>\n",
       "      <td>0</td>\n",
       "      <td>0</td>\n",
       "      <td>0</td>\n",
       "    </tr>\n",
       "    <tr>\n",
       "      <th>4</th>\n",
       "      <td>2.0</td>\n",
       "      <td>1428</td>\n",
       "      <td>1.0</td>\n",
       "      <td>1</td>\n",
       "      <td>0</td>\n",
       "      <td>0</td>\n",
       "      <td>0</td>\n",
       "      <td>0</td>\n",
       "      <td>1</td>\n",
       "      <td>0</td>\n",
       "      <td>...</td>\n",
       "      <td>0</td>\n",
       "      <td>0</td>\n",
       "      <td>0</td>\n",
       "      <td>1</td>\n",
       "      <td>0</td>\n",
       "      <td>0</td>\n",
       "      <td>0</td>\n",
       "      <td>0</td>\n",
       "      <td>0</td>\n",
       "      <td>0</td>\n",
       "    </tr>\n",
       "  </tbody>\n",
       "</table>\n",
       "<p>5 rows × 73 columns</p>\n",
       "</div>"
      ],
      "text/plain": [
       "   TotalVisits  Total Time Spent on Website  Page Views Per Visit  \\\n",
       "0          0.0                            0                   0.0   \n",
       "1          5.0                          674                   2.5   \n",
       "2          2.0                         1532                   2.0   \n",
       "3          1.0                          305                   1.0   \n",
       "4          2.0                         1428                   1.0   \n",
       "\n",
       "   Lead Origin_Landing Page Submission  Lead Origin_Lead Add Form  \\\n",
       "0                                    0                          0   \n",
       "1                                    0                          0   \n",
       "2                                    1                          0   \n",
       "3                                    1                          0   \n",
       "4                                    1                          0   \n",
       "\n",
       "   Lead Origin_Lead Import  Lead Source_Direct Traffic  Lead Source_Facebook  \\\n",
       "0                        0                           0                     0   \n",
       "1                        0                           0                     0   \n",
       "2                        0                           1                     0   \n",
       "3                        0                           1                     0   \n",
       "4                        0                           0                     0   \n",
       "\n",
       "   Lead Source_Google  Lead Source_Live Chat  ...  \\\n",
       "0                   0                      0  ...   \n",
       "1                   0                      0  ...   \n",
       "2                   0                      0  ...   \n",
       "3                   0                      0  ...   \n",
       "4                   1                      0  ...   \n",
       "\n",
       "   Last Notable Activity_Email Received  \\\n",
       "0                                     0   \n",
       "1                                     0   \n",
       "2                                     0   \n",
       "3                                     0   \n",
       "4                                     0   \n",
       "\n",
       "   Last Notable Activity_Form Submitted on Website  \\\n",
       "0                                                0   \n",
       "1                                                0   \n",
       "2                                                0   \n",
       "3                                                0   \n",
       "4                                                0   \n",
       "\n",
       "   Last Notable Activity_Had a Phone Conversation  \\\n",
       "0                                               0   \n",
       "1                                               0   \n",
       "2                                               0   \n",
       "3                                               0   \n",
       "4                                               0   \n",
       "\n",
       "   Last Notable Activity_Modified  \\\n",
       "0                               1   \n",
       "1                               0   \n",
       "2                               0   \n",
       "3                               1   \n",
       "4                               1   \n",
       "\n",
       "   Last Notable Activity_Olark Chat Conversation  \\\n",
       "0                                              0   \n",
       "1                                              0   \n",
       "2                                              0   \n",
       "3                                              0   \n",
       "4                                              0   \n",
       "\n",
       "   Last Notable Activity_Page Visited on Website  \\\n",
       "0                                              0   \n",
       "1                                              0   \n",
       "2                                              0   \n",
       "3                                              0   \n",
       "4                                              0   \n",
       "\n",
       "   Last Notable Activity_SMS Sent  Last Notable Activity_Unreachable  \\\n",
       "0                               0                                  0   \n",
       "1                               0                                  0   \n",
       "2                               0                                  0   \n",
       "3                               0                                  0   \n",
       "4                               0                                  0   \n",
       "\n",
       "   Last Notable Activity_Unsubscribed  \\\n",
       "0                                   0   \n",
       "1                                   0   \n",
       "2                                   0   \n",
       "3                                   0   \n",
       "4                                   0   \n",
       "\n",
       "   Last Notable Activity_View in browser link Clicked  \n",
       "0                                                  0   \n",
       "1                                                  0   \n",
       "2                                                  0   \n",
       "3                                                  0   \n",
       "4                                                  0   \n",
       "\n",
       "[5 rows x 73 columns]"
      ]
     },
     "execution_count": 505,
     "metadata": {},
     "output_type": "execute_result"
    }
   ],
   "source": [
    "X.head()"
   ]
  },
  {
   "cell_type": "code",
   "execution_count": 506,
   "id": "7df1e193",
   "metadata": {},
   "outputs": [
    {
     "data": {
      "text/plain": [
       "0    0\n",
       "1    0\n",
       "2    1\n",
       "3    0\n",
       "4    1\n",
       "Name: Converted, dtype: int64"
      ]
     },
     "execution_count": 506,
     "metadata": {},
     "output_type": "execute_result"
    }
   ],
   "source": [
    "y.head()"
   ]
  },
  {
   "cell_type": "code",
   "execution_count": 507,
   "id": "cb48aeb1",
   "metadata": {},
   "outputs": [],
   "source": [
    "X_train,X_test,y_train,y_test = train_test_split(X,y,train_size=.7,random_state=100)"
   ]
  },
  {
   "cell_type": "code",
   "execution_count": 508,
   "id": "97df1827",
   "metadata": {},
   "outputs": [
    {
     "name": "stdout",
     "output_type": "stream",
     "text": [
      "(5370, 73)\n",
      "(2302, 73)\n",
      "(5370,)\n",
      "(2302,)\n"
     ]
    }
   ],
   "source": [
    "print(X_train.shape)\n",
    "print(X_test.shape)\n",
    "print(y_train.shape)\n",
    "print(y_test.shape)"
   ]
  },
  {
   "cell_type": "markdown",
   "id": "372d554b",
   "metadata": {},
   "source": [
    "## Standardization"
   ]
  },
  {
   "cell_type": "markdown",
   "id": "fc8b9b21",
   "metadata": {},
   "source": [
    "Using MinMaxScaler"
   ]
  },
  {
   "cell_type": "code",
   "execution_count": 509,
   "id": "82f88c7f",
   "metadata": {},
   "outputs": [],
   "source": [
    "scaler = MinMaxScaler()\n",
    "X_train[['TotalVisits','Total Time Spent on Website','Page Views Per Visit']] = scaler.fit_transform(X_train[['TotalVisits','Total Time Spent on Website','Page Views Per Visit']])"
   ]
  },
  {
   "cell_type": "code",
   "execution_count": 510,
   "id": "b857bf24",
   "metadata": {},
   "outputs": [
    {
     "data": {
      "text/html": [
       "<div>\n",
       "<style scoped>\n",
       "    .dataframe tbody tr th:only-of-type {\n",
       "        vertical-align: middle;\n",
       "    }\n",
       "\n",
       "    .dataframe tbody tr th {\n",
       "        vertical-align: top;\n",
       "    }\n",
       "\n",
       "    .dataframe thead th {\n",
       "        text-align: right;\n",
       "    }\n",
       "</style>\n",
       "<table border=\"1\" class=\"dataframe\">\n",
       "  <thead>\n",
       "    <tr style=\"text-align: right;\">\n",
       "      <th></th>\n",
       "      <th>TotalVisits</th>\n",
       "      <th>Total Time Spent on Website</th>\n",
       "      <th>Page Views Per Visit</th>\n",
       "      <th>Lead Origin_Landing Page Submission</th>\n",
       "      <th>Lead Origin_Lead Add Form</th>\n",
       "      <th>Lead Origin_Lead Import</th>\n",
       "      <th>Lead Source_Direct Traffic</th>\n",
       "      <th>Lead Source_Facebook</th>\n",
       "      <th>Lead Source_Google</th>\n",
       "      <th>Lead Source_Live Chat</th>\n",
       "      <th>...</th>\n",
       "      <th>Last Notable Activity_Email Received</th>\n",
       "      <th>Last Notable Activity_Form Submitted on Website</th>\n",
       "      <th>Last Notable Activity_Had a Phone Conversation</th>\n",
       "      <th>Last Notable Activity_Modified</th>\n",
       "      <th>Last Notable Activity_Olark Chat Conversation</th>\n",
       "      <th>Last Notable Activity_Page Visited on Website</th>\n",
       "      <th>Last Notable Activity_SMS Sent</th>\n",
       "      <th>Last Notable Activity_Unreachable</th>\n",
       "      <th>Last Notable Activity_Unsubscribed</th>\n",
       "      <th>Last Notable Activity_View in browser link Clicked</th>\n",
       "    </tr>\n",
       "  </thead>\n",
       "  <tbody>\n",
       "    <tr>\n",
       "      <th>3253</th>\n",
       "      <td>0.035461</td>\n",
       "      <td>0.144806</td>\n",
       "      <td>0.3125</td>\n",
       "      <td>1</td>\n",
       "      <td>0</td>\n",
       "      <td>0</td>\n",
       "      <td>1</td>\n",
       "      <td>0</td>\n",
       "      <td>0</td>\n",
       "      <td>0</td>\n",
       "      <td>...</td>\n",
       "      <td>0</td>\n",
       "      <td>0</td>\n",
       "      <td>0</td>\n",
       "      <td>0</td>\n",
       "      <td>0</td>\n",
       "      <td>0</td>\n",
       "      <td>0</td>\n",
       "      <td>0</td>\n",
       "      <td>0</td>\n",
       "      <td>0</td>\n",
       "    </tr>\n",
       "    <tr>\n",
       "      <th>8513</th>\n",
       "      <td>0.028369</td>\n",
       "      <td>0.119278</td>\n",
       "      <td>0.2500</td>\n",
       "      <td>1</td>\n",
       "      <td>0</td>\n",
       "      <td>0</td>\n",
       "      <td>1</td>\n",
       "      <td>0</td>\n",
       "      <td>0</td>\n",
       "      <td>0</td>\n",
       "      <td>...</td>\n",
       "      <td>0</td>\n",
       "      <td>0</td>\n",
       "      <td>0</td>\n",
       "      <td>0</td>\n",
       "      <td>0</td>\n",
       "      <td>0</td>\n",
       "      <td>0</td>\n",
       "      <td>0</td>\n",
       "      <td>0</td>\n",
       "      <td>0</td>\n",
       "    </tr>\n",
       "    <tr>\n",
       "      <th>32</th>\n",
       "      <td>0.028369</td>\n",
       "      <td>0.098151</td>\n",
       "      <td>0.1250</td>\n",
       "      <td>0</td>\n",
       "      <td>0</td>\n",
       "      <td>0</td>\n",
       "      <td>0</td>\n",
       "      <td>0</td>\n",
       "      <td>0</td>\n",
       "      <td>0</td>\n",
       "      <td>...</td>\n",
       "      <td>0</td>\n",
       "      <td>0</td>\n",
       "      <td>0</td>\n",
       "      <td>1</td>\n",
       "      <td>0</td>\n",
       "      <td>0</td>\n",
       "      <td>0</td>\n",
       "      <td>0</td>\n",
       "      <td>0</td>\n",
       "      <td>0</td>\n",
       "    </tr>\n",
       "    <tr>\n",
       "      <th>1095</th>\n",
       "      <td>0.014184</td>\n",
       "      <td>0.237236</td>\n",
       "      <td>0.1250</td>\n",
       "      <td>1</td>\n",
       "      <td>0</td>\n",
       "      <td>0</td>\n",
       "      <td>0</td>\n",
       "      <td>0</td>\n",
       "      <td>1</td>\n",
       "      <td>0</td>\n",
       "      <td>...</td>\n",
       "      <td>0</td>\n",
       "      <td>0</td>\n",
       "      <td>0</td>\n",
       "      <td>1</td>\n",
       "      <td>0</td>\n",
       "      <td>0</td>\n",
       "      <td>0</td>\n",
       "      <td>0</td>\n",
       "      <td>0</td>\n",
       "      <td>0</td>\n",
       "    </tr>\n",
       "    <tr>\n",
       "      <th>3568</th>\n",
       "      <td>0.007092</td>\n",
       "      <td>0.102553</td>\n",
       "      <td>0.0625</td>\n",
       "      <td>1</td>\n",
       "      <td>0</td>\n",
       "      <td>0</td>\n",
       "      <td>0</td>\n",
       "      <td>0</td>\n",
       "      <td>1</td>\n",
       "      <td>0</td>\n",
       "      <td>...</td>\n",
       "      <td>0</td>\n",
       "      <td>0</td>\n",
       "      <td>0</td>\n",
       "      <td>0</td>\n",
       "      <td>0</td>\n",
       "      <td>0</td>\n",
       "      <td>0</td>\n",
       "      <td>0</td>\n",
       "      <td>0</td>\n",
       "      <td>0</td>\n",
       "    </tr>\n",
       "  </tbody>\n",
       "</table>\n",
       "<p>5 rows × 73 columns</p>\n",
       "</div>"
      ],
      "text/plain": [
       "      TotalVisits  Total Time Spent on Website  Page Views Per Visit  \\\n",
       "3253     0.035461                     0.144806                0.3125   \n",
       "8513     0.028369                     0.119278                0.2500   \n",
       "32       0.028369                     0.098151                0.1250   \n",
       "1095     0.014184                     0.237236                0.1250   \n",
       "3568     0.007092                     0.102553                0.0625   \n",
       "\n",
       "      Lead Origin_Landing Page Submission  Lead Origin_Lead Add Form  \\\n",
       "3253                                    1                          0   \n",
       "8513                                    1                          0   \n",
       "32                                      0                          0   \n",
       "1095                                    1                          0   \n",
       "3568                                    1                          0   \n",
       "\n",
       "      Lead Origin_Lead Import  Lead Source_Direct Traffic  \\\n",
       "3253                        0                           1   \n",
       "8513                        0                           1   \n",
       "32                          0                           0   \n",
       "1095                        0                           0   \n",
       "3568                        0                           0   \n",
       "\n",
       "      Lead Source_Facebook  Lead Source_Google  Lead Source_Live Chat  ...  \\\n",
       "3253                     0                   0                      0  ...   \n",
       "8513                     0                   0                      0  ...   \n",
       "32                       0                   0                      0  ...   \n",
       "1095                     0                   1                      0  ...   \n",
       "3568                     0                   1                      0  ...   \n",
       "\n",
       "      Last Notable Activity_Email Received  \\\n",
       "3253                                     0   \n",
       "8513                                     0   \n",
       "32                                       0   \n",
       "1095                                     0   \n",
       "3568                                     0   \n",
       "\n",
       "      Last Notable Activity_Form Submitted on Website  \\\n",
       "3253                                                0   \n",
       "8513                                                0   \n",
       "32                                                  0   \n",
       "1095                                                0   \n",
       "3568                                                0   \n",
       "\n",
       "      Last Notable Activity_Had a Phone Conversation  \\\n",
       "3253                                               0   \n",
       "8513                                               0   \n",
       "32                                                 0   \n",
       "1095                                               0   \n",
       "3568                                               0   \n",
       "\n",
       "      Last Notable Activity_Modified  \\\n",
       "3253                               0   \n",
       "8513                               0   \n",
       "32                                 1   \n",
       "1095                               1   \n",
       "3568                               0   \n",
       "\n",
       "      Last Notable Activity_Olark Chat Conversation  \\\n",
       "3253                                              0   \n",
       "8513                                              0   \n",
       "32                                                0   \n",
       "1095                                              0   \n",
       "3568                                              0   \n",
       "\n",
       "      Last Notable Activity_Page Visited on Website  \\\n",
       "3253                                              0   \n",
       "8513                                              0   \n",
       "32                                                0   \n",
       "1095                                              0   \n",
       "3568                                              0   \n",
       "\n",
       "      Last Notable Activity_SMS Sent  Last Notable Activity_Unreachable  \\\n",
       "3253                               0                                  0   \n",
       "8513                               0                                  0   \n",
       "32                                 0                                  0   \n",
       "1095                               0                                  0   \n",
       "3568                               0                                  0   \n",
       "\n",
       "      Last Notable Activity_Unsubscribed  \\\n",
       "3253                                   0   \n",
       "8513                                   0   \n",
       "32                                     0   \n",
       "1095                                   0   \n",
       "3568                                   0   \n",
       "\n",
       "      Last Notable Activity_View in browser link Clicked  \n",
       "3253                                                  0   \n",
       "8513                                                  0   \n",
       "32                                                    0   \n",
       "1095                                                  0   \n",
       "3568                                                  0   \n",
       "\n",
       "[5 rows x 73 columns]"
      ]
     },
     "execution_count": 510,
     "metadata": {},
     "output_type": "execute_result"
    }
   ],
   "source": [
    "X_train.head()"
   ]
  },
  {
   "cell_type": "markdown",
   "id": "0be76f9c",
   "metadata": {},
   "source": [
    "## Model Building"
   ]
  },
  {
   "cell_type": "markdown",
   "id": "06c5cc51",
   "metadata": {},
   "source": [
    "### feature selection using RFE"
   ]
  },
  {
   "cell_type": "code",
   "execution_count": 511,
   "id": "259b58a8",
   "metadata": {},
   "outputs": [],
   "source": [
    "logreg = LogisticRegression()\n",
    "rfe= RFE(logreg,n_features_to_select=15)\n",
    "rfe= rfe.fit(X_train,y_train)"
   ]
  },
  {
   "cell_type": "code",
   "execution_count": 512,
   "id": "3de527c7",
   "metadata": {},
   "outputs": [
    {
     "data": {
      "text/plain": [
       "Index(['Total Time Spent on Website', 'Lead Origin_Landing Page Submission',\n",
       "       'Lead Origin_Lead Add Form', 'Lead Source_Olark Chat',\n",
       "       'Lead Source_Welingak Website', 'Last Activity_Email Bounced',\n",
       "       'Last Activity_Email Opened', 'Last Activity_Email Received',\n",
       "       'Last Activity_Had a Phone Conversation', 'Last Activity_SMS Sent',\n",
       "       'Specialization_Not provided', 'Last Notable Activity_Email Opened',\n",
       "       'Last Notable Activity_Modified',\n",
       "       'Last Notable Activity_Olark Chat Conversation',\n",
       "       'Last Notable Activity_Unreachable'],\n",
       "      dtype='object')"
      ]
     },
     "execution_count": 512,
     "metadata": {},
     "output_type": "execute_result"
    }
   ],
   "source": [
    "cols=X_train.columns[rfe.support_]\n",
    "X_train_rfe = X_train[cols]\n",
    "X_train_rfe.columns"
   ]
  },
  {
   "cell_type": "markdown",
   "id": "3d942231",
   "metadata": {},
   "source": [
    "#### Building model using statsmodel"
   ]
  },
  {
   "cell_type": "code",
   "execution_count": 513,
   "id": "d7e7cf07",
   "metadata": {},
   "outputs": [
    {
     "data": {
      "text/html": [
       "<table class=\"simpletable\">\n",
       "<caption>Generalized Linear Model Regression Results</caption>\n",
       "<tr>\n",
       "  <th>Dep. Variable:</th>       <td>Converted</td>    <th>  No. Observations:  </th>  <td>  5370</td> \n",
       "</tr>\n",
       "<tr>\n",
       "  <th>Model:</th>                  <td>GLM</td>       <th>  Df Residuals:      </th>  <td>  5354</td> \n",
       "</tr>\n",
       "<tr>\n",
       "  <th>Model Family:</th>        <td>Binomial</td>     <th>  Df Model:          </th>  <td>    15</td> \n",
       "</tr>\n",
       "<tr>\n",
       "  <th>Link Function:</th>         <td>Logit</td>      <th>  Scale:             </th> <td>  1.0000</td>\n",
       "</tr>\n",
       "<tr>\n",
       "  <th>Method:</th>                <td>IRLS</td>       <th>  Log-Likelihood:    </th> <td> -2518.2</td>\n",
       "</tr>\n",
       "<tr>\n",
       "  <th>Date:</th>            <td>Mon, 14 Oct 2024</td> <th>  Deviance:          </th> <td>  5036.3</td>\n",
       "</tr>\n",
       "<tr>\n",
       "  <th>Time:</th>                <td>13:46:27</td>     <th>  Pearson chi2:      </th> <td>5.54e+03</td>\n",
       "</tr>\n",
       "<tr>\n",
       "  <th>No. Iterations:</th>         <td>19</td>        <th>  Pseudo R-squ. (CS):</th>  <td>0.3494</td> \n",
       "</tr>\n",
       "<tr>\n",
       "  <th>Covariance Type:</th>     <td>nonrobust</td>    <th>                     </th>     <td> </td>   \n",
       "</tr>\n",
       "</table>\n",
       "<table class=\"simpletable\">\n",
       "<tr>\n",
       "                        <td></td>                           <th>coef</th>     <th>std err</th>      <th>z</th>      <th>P>|z|</th>  <th>[0.025</th>    <th>0.975]</th>  \n",
       "</tr>\n",
       "<tr>\n",
       "  <th>const</th>                                         <td>   -0.8890</td> <td>    0.167</td> <td>   -5.338</td> <td> 0.000</td> <td>   -1.215</td> <td>   -0.563</td>\n",
       "</tr>\n",
       "<tr>\n",
       "  <th>Total Time Spent on Website</th>                   <td>    4.4431</td> <td>    0.165</td> <td>   26.858</td> <td> 0.000</td> <td>    4.119</td> <td>    4.767</td>\n",
       "</tr>\n",
       "<tr>\n",
       "  <th>Lead Origin_Landing Page Submission</th>           <td>   -1.3090</td> <td>    0.128</td> <td>  -10.247</td> <td> 0.000</td> <td>   -1.559</td> <td>   -1.059</td>\n",
       "</tr>\n",
       "<tr>\n",
       "  <th>Lead Origin_Lead Add Form</th>                     <td>    3.2788</td> <td>    0.239</td> <td>   13.722</td> <td> 0.000</td> <td>    2.810</td> <td>    3.747</td>\n",
       "</tr>\n",
       "<tr>\n",
       "  <th>Lead Source_Olark Chat</th>                        <td>    1.1999</td> <td>    0.133</td> <td>    9.020</td> <td> 0.000</td> <td>    0.939</td> <td>    1.461</td>\n",
       "</tr>\n",
       "<tr>\n",
       "  <th>Lead Source_Welingak Website</th>                  <td>    2.6469</td> <td>    1.034</td> <td>    2.561</td> <td> 0.010</td> <td>    0.621</td> <td>    4.673</td>\n",
       "</tr>\n",
       "<tr>\n",
       "  <th>Last Activity_Email Bounced</th>                   <td>   -1.1768</td> <td>    0.353</td> <td>   -3.338</td> <td> 0.001</td> <td>   -1.868</td> <td>   -0.486</td>\n",
       "</tr>\n",
       "<tr>\n",
       "  <th>Last Activity_Email Opened</th>                    <td>    1.2344</td> <td>    0.164</td> <td>    7.549</td> <td> 0.000</td> <td>    0.914</td> <td>    1.555</td>\n",
       "</tr>\n",
       "<tr>\n",
       "  <th>Last Activity_Email Received</th>                  <td>   21.3326</td> <td> 1.25e+04</td> <td>    0.002</td> <td> 0.999</td> <td>-2.45e+04</td> <td> 2.46e+04</td>\n",
       "</tr>\n",
       "<tr>\n",
       "  <th>Last Activity_Had a Phone Conversation</th>        <td>    2.2895</td> <td>    0.613</td> <td>    3.733</td> <td> 0.000</td> <td>    1.087</td> <td>    3.492</td>\n",
       "</tr>\n",
       "<tr>\n",
       "  <th>Last Activity_SMS Sent</th>                        <td>    1.2462</td> <td>    0.115</td> <td>   10.865</td> <td> 0.000</td> <td>    1.021</td> <td>    1.471</td>\n",
       "</tr>\n",
       "<tr>\n",
       "  <th>Specialization_Not provided</th>                   <td>   -1.1650</td> <td>    0.128</td> <td>   -9.121</td> <td> 0.000</td> <td>   -1.415</td> <td>   -0.915</td>\n",
       "</tr>\n",
       "<tr>\n",
       "  <th>Last Notable Activity_Email Opened</th>            <td>   -0.9834</td> <td>    0.185</td> <td>   -5.328</td> <td> 0.000</td> <td>   -1.345</td> <td>   -0.622</td>\n",
       "</tr>\n",
       "<tr>\n",
       "  <th>Last Notable Activity_Modified</th>                <td>   -1.0811</td> <td>    0.113</td> <td>   -9.584</td> <td> 0.000</td> <td>   -1.302</td> <td>   -0.860</td>\n",
       "</tr>\n",
       "<tr>\n",
       "  <th>Last Notable Activity_Olark Chat Conversation</th> <td>   -1.3189</td> <td>    0.433</td> <td>   -3.046</td> <td> 0.002</td> <td>   -2.167</td> <td>   -0.470</td>\n",
       "</tr>\n",
       "<tr>\n",
       "  <th>Last Notable Activity_Unreachable</th>             <td>    1.6577</td> <td>    0.595</td> <td>    2.784</td> <td> 0.005</td> <td>    0.491</td> <td>    2.825</td>\n",
       "</tr>\n",
       "</table>"
      ],
      "text/latex": [
       "\\begin{center}\n",
       "\\begin{tabular}{lclc}\n",
       "\\toprule\n",
       "\\textbf{Dep. Variable:}                                 &    Converted     & \\textbf{  No. Observations:  } &     5370    \\\\\n",
       "\\textbf{Model:}                                         &       GLM        & \\textbf{  Df Residuals:      } &     5354    \\\\\n",
       "\\textbf{Model Family:}                                  &     Binomial     & \\textbf{  Df Model:          } &       15    \\\\\n",
       "\\textbf{Link Function:}                                 &      Logit       & \\textbf{  Scale:             } &    1.0000   \\\\\n",
       "\\textbf{Method:}                                        &       IRLS       & \\textbf{  Log-Likelihood:    } &   -2518.2   \\\\\n",
       "\\textbf{Date:}                                          & Mon, 14 Oct 2024 & \\textbf{  Deviance:          } &    5036.3   \\\\\n",
       "\\textbf{Time:}                                          &     13:46:27     & \\textbf{  Pearson chi2:      } &  5.54e+03   \\\\\n",
       "\\textbf{No. Iterations:}                                &        19        & \\textbf{  Pseudo R-squ. (CS):} &   0.3494    \\\\\n",
       "\\textbf{Covariance Type:}                               &    nonrobust     & \\textbf{                     } &             \\\\\n",
       "\\bottomrule\n",
       "\\end{tabular}\n",
       "\\begin{tabular}{lcccccc}\n",
       "                                                        & \\textbf{coef} & \\textbf{std err} & \\textbf{z} & \\textbf{P$> |$z$|$} & \\textbf{[0.025} & \\textbf{0.975]}  \\\\\n",
       "\\midrule\n",
       "\\textbf{const}                                          &      -0.8890  &        0.167     &    -5.338  &         0.000        &       -1.215    &       -0.563     \\\\\n",
       "\\textbf{Total Time Spent on Website}                    &       4.4431  &        0.165     &    26.858  &         0.000        &        4.119    &        4.767     \\\\\n",
       "\\textbf{Lead Origin\\_Landing Page Submission}           &      -1.3090  &        0.128     &   -10.247  &         0.000        &       -1.559    &       -1.059     \\\\\n",
       "\\textbf{Lead Origin\\_Lead Add Form}                     &       3.2788  &        0.239     &    13.722  &         0.000        &        2.810    &        3.747     \\\\\n",
       "\\textbf{Lead Source\\_Olark Chat}                        &       1.1999  &        0.133     &     9.020  &         0.000        &        0.939    &        1.461     \\\\\n",
       "\\textbf{Lead Source\\_Welingak Website}                  &       2.6469  &        1.034     &     2.561  &         0.010        &        0.621    &        4.673     \\\\\n",
       "\\textbf{Last Activity\\_Email Bounced}                   &      -1.1768  &        0.353     &    -3.338  &         0.001        &       -1.868    &       -0.486     \\\\\n",
       "\\textbf{Last Activity\\_Email Opened}                    &       1.2344  &        0.164     &     7.549  &         0.000        &        0.914    &        1.555     \\\\\n",
       "\\textbf{Last Activity\\_Email Received}                  &      21.3326  &     1.25e+04     &     0.002  &         0.999        &    -2.45e+04    &     2.46e+04     \\\\\n",
       "\\textbf{Last Activity\\_Had a Phone Conversation}        &       2.2895  &        0.613     &     3.733  &         0.000        &        1.087    &        3.492     \\\\\n",
       "\\textbf{Last Activity\\_SMS Sent}                        &       1.2462  &        0.115     &    10.865  &         0.000        &        1.021    &        1.471     \\\\\n",
       "\\textbf{Specialization\\_Not provided}                   &      -1.1650  &        0.128     &    -9.121  &         0.000        &       -1.415    &       -0.915     \\\\\n",
       "\\textbf{Last Notable Activity\\_Email Opened}            &      -0.9834  &        0.185     &    -5.328  &         0.000        &       -1.345    &       -0.622     \\\\\n",
       "\\textbf{Last Notable Activity\\_Modified}                &      -1.0811  &        0.113     &    -9.584  &         0.000        &       -1.302    &       -0.860     \\\\\n",
       "\\textbf{Last Notable Activity\\_Olark Chat Conversation} &      -1.3189  &        0.433     &    -3.046  &         0.002        &       -2.167    &       -0.470     \\\\\n",
       "\\textbf{Last Notable Activity\\_Unreachable}             &       1.6577  &        0.595     &     2.784  &         0.005        &        0.491    &        2.825     \\\\\n",
       "\\bottomrule\n",
       "\\end{tabular}\n",
       "%\\caption{Generalized Linear Model Regression Results}\n",
       "\\end{center}"
      ],
      "text/plain": [
       "<class 'statsmodels.iolib.summary.Summary'>\n",
       "\"\"\"\n",
       "                 Generalized Linear Model Regression Results                  \n",
       "==============================================================================\n",
       "Dep. Variable:              Converted   No. Observations:                 5370\n",
       "Model:                            GLM   Df Residuals:                     5354\n",
       "Model Family:                Binomial   Df Model:                           15\n",
       "Link Function:                  Logit   Scale:                          1.0000\n",
       "Method:                          IRLS   Log-Likelihood:                -2518.2\n",
       "Date:                Mon, 14 Oct 2024   Deviance:                       5036.3\n",
       "Time:                        13:46:27   Pearson chi2:                 5.54e+03\n",
       "No. Iterations:                    19   Pseudo R-squ. (CS):             0.3494\n",
       "Covariance Type:            nonrobust                                         \n",
       "=================================================================================================================\n",
       "                                                    coef    std err          z      P>|z|      [0.025      0.975]\n",
       "-----------------------------------------------------------------------------------------------------------------\n",
       "const                                            -0.8890      0.167     -5.338      0.000      -1.215      -0.563\n",
       "Total Time Spent on Website                       4.4431      0.165     26.858      0.000       4.119       4.767\n",
       "Lead Origin_Landing Page Submission              -1.3090      0.128    -10.247      0.000      -1.559      -1.059\n",
       "Lead Origin_Lead Add Form                         3.2788      0.239     13.722      0.000       2.810       3.747\n",
       "Lead Source_Olark Chat                            1.1999      0.133      9.020      0.000       0.939       1.461\n",
       "Lead Source_Welingak Website                      2.6469      1.034      2.561      0.010       0.621       4.673\n",
       "Last Activity_Email Bounced                      -1.1768      0.353     -3.338      0.001      -1.868      -0.486\n",
       "Last Activity_Email Opened                        1.2344      0.164      7.549      0.000       0.914       1.555\n",
       "Last Activity_Email Received                     21.3326   1.25e+04      0.002      0.999   -2.45e+04    2.46e+04\n",
       "Last Activity_Had a Phone Conversation            2.2895      0.613      3.733      0.000       1.087       3.492\n",
       "Last Activity_SMS Sent                            1.2462      0.115     10.865      0.000       1.021       1.471\n",
       "Specialization_Not provided                      -1.1650      0.128     -9.121      0.000      -1.415      -0.915\n",
       "Last Notable Activity_Email Opened               -0.9834      0.185     -5.328      0.000      -1.345      -0.622\n",
       "Last Notable Activity_Modified                   -1.0811      0.113     -9.584      0.000      -1.302      -0.860\n",
       "Last Notable Activity_Olark Chat Conversation    -1.3189      0.433     -3.046      0.002      -2.167      -0.470\n",
       "Last Notable Activity_Unreachable                 1.6577      0.595      2.784      0.005       0.491       2.825\n",
       "=================================================================================================================\n",
       "\"\"\""
      ]
     },
     "execution_count": 513,
     "metadata": {},
     "output_type": "execute_result"
    }
   ],
   "source": [
    "X_train_sm= sm.add_constant(X_train_rfe)\n",
    "lm1 = sm.GLM(y_train,X_train_sm,family=sm.families.Binomial())\n",
    "lm1= lm1.fit()\n",
    "lm1.summary()"
   ]
  },
  {
   "cell_type": "markdown",
   "id": "f57f4ea1",
   "metadata": {},
   "source": [
    "#### checking the VIF"
   ]
  },
  {
   "cell_type": "code",
   "execution_count": 514,
   "id": "5e15faba",
   "metadata": {},
   "outputs": [
    {
     "data": {
      "text/html": [
       "<div>\n",
       "<style scoped>\n",
       "    .dataframe tbody tr th:only-of-type {\n",
       "        vertical-align: middle;\n",
       "    }\n",
       "\n",
       "    .dataframe tbody tr th {\n",
       "        vertical-align: top;\n",
       "    }\n",
       "\n",
       "    .dataframe thead th {\n",
       "        text-align: right;\n",
       "    }\n",
       "</style>\n",
       "<table border=\"1\" class=\"dataframe\">\n",
       "  <thead>\n",
       "    <tr style=\"text-align: right;\">\n",
       "      <th></th>\n",
       "      <th>Features</th>\n",
       "      <th>VIF</th>\n",
       "    </tr>\n",
       "  </thead>\n",
       "  <tbody>\n",
       "    <tr>\n",
       "      <th>11</th>\n",
       "      <td>Last Notable Activity_Email Opened</td>\n",
       "      <td>9.03</td>\n",
       "    </tr>\n",
       "    <tr>\n",
       "      <th>6</th>\n",
       "      <td>Last Activity_Email Opened</td>\n",
       "      <td>8.56</td>\n",
       "    </tr>\n",
       "    <tr>\n",
       "      <th>1</th>\n",
       "      <td>Lead Origin_Landing Page Submission</td>\n",
       "      <td>4.27</td>\n",
       "    </tr>\n",
       "    <tr>\n",
       "      <th>9</th>\n",
       "      <td>Last Activity_SMS Sent</td>\n",
       "      <td>2.60</td>\n",
       "    </tr>\n",
       "    <tr>\n",
       "      <th>12</th>\n",
       "      <td>Last Notable Activity_Modified</td>\n",
       "      <td>2.32</td>\n",
       "    </tr>\n",
       "    <tr>\n",
       "      <th>10</th>\n",
       "      <td>Specialization_Not provided</td>\n",
       "      <td>2.12</td>\n",
       "    </tr>\n",
       "    <tr>\n",
       "      <th>0</th>\n",
       "      <td>Total Time Spent on Website</td>\n",
       "      <td>2.10</td>\n",
       "    </tr>\n",
       "    <tr>\n",
       "      <th>2</th>\n",
       "      <td>Lead Origin_Lead Add Form</td>\n",
       "      <td>1.66</td>\n",
       "    </tr>\n",
       "    <tr>\n",
       "      <th>3</th>\n",
       "      <td>Lead Source_Olark Chat</td>\n",
       "      <td>1.57</td>\n",
       "    </tr>\n",
       "    <tr>\n",
       "      <th>4</th>\n",
       "      <td>Lead Source_Welingak Website</td>\n",
       "      <td>1.32</td>\n",
       "    </tr>\n",
       "    <tr>\n",
       "      <th>5</th>\n",
       "      <td>Last Activity_Email Bounced</td>\n",
       "      <td>1.15</td>\n",
       "    </tr>\n",
       "    <tr>\n",
       "      <th>13</th>\n",
       "      <td>Last Notable Activity_Olark Chat Conversation</td>\n",
       "      <td>1.07</td>\n",
       "    </tr>\n",
       "    <tr>\n",
       "      <th>14</th>\n",
       "      <td>Last Notable Activity_Unreachable</td>\n",
       "      <td>1.02</td>\n",
       "    </tr>\n",
       "    <tr>\n",
       "      <th>8</th>\n",
       "      <td>Last Activity_Had a Phone Conversation</td>\n",
       "      <td>1.01</td>\n",
       "    </tr>\n",
       "    <tr>\n",
       "      <th>7</th>\n",
       "      <td>Last Activity_Email Received</td>\n",
       "      <td>1.00</td>\n",
       "    </tr>\n",
       "  </tbody>\n",
       "</table>\n",
       "</div>"
      ],
      "text/plain": [
       "                                         Features   VIF\n",
       "11             Last Notable Activity_Email Opened  9.03\n",
       "6                      Last Activity_Email Opened  8.56\n",
       "1             Lead Origin_Landing Page Submission  4.27\n",
       "9                          Last Activity_SMS Sent  2.60\n",
       "12                 Last Notable Activity_Modified  2.32\n",
       "10                    Specialization_Not provided  2.12\n",
       "0                     Total Time Spent on Website  2.10\n",
       "2                       Lead Origin_Lead Add Form  1.66\n",
       "3                          Lead Source_Olark Chat  1.57\n",
       "4                    Lead Source_Welingak Website  1.32\n",
       "5                     Last Activity_Email Bounced  1.15\n",
       "13  Last Notable Activity_Olark Chat Conversation  1.07\n",
       "14              Last Notable Activity_Unreachable  1.02\n",
       "8          Last Activity_Had a Phone Conversation  1.01\n",
       "7                    Last Activity_Email Received  1.00"
      ]
     },
     "execution_count": 514,
     "metadata": {},
     "output_type": "execute_result"
    }
   ],
   "source": [
    "vif = pd.DataFrame()\n",
    "vif['Features'] = X_train_rfe.columns\n",
    "vif['VIF'] = [variance_inflation_factor(X_train_rfe.values, i) for i in range(X_train_rfe.shape[1])]\n",
    "vif['VIF'] = round(vif['VIF'], 2)\n",
    "vif = vif.sort_values(by = \"VIF\", ascending = False)\n",
    "vif"
   ]
  },
  {
   "cell_type": "markdown",
   "id": "02f90791",
   "metadata": {},
   "source": [
    " Dropping Last Notable Activity_Email Opened as it has hig VIF"
   ]
  },
  {
   "cell_type": "code",
   "execution_count": 515,
   "id": "0a06c145",
   "metadata": {},
   "outputs": [],
   "source": [
    "X_train_rfe= X_train_rfe.drop(\"Last Notable Activity_Email Opened\",axis=1)"
   ]
  },
  {
   "cell_type": "markdown",
   "id": "28f81789",
   "metadata": {},
   "source": [
    "#### Building the second model"
   ]
  },
  {
   "cell_type": "code",
   "execution_count": 516,
   "id": "e291493f",
   "metadata": {},
   "outputs": [
    {
     "data": {
      "text/html": [
       "<table class=\"simpletable\">\n",
       "<caption>Generalized Linear Model Regression Results</caption>\n",
       "<tr>\n",
       "  <th>Dep. Variable:</th>       <td>Converted</td>    <th>  No. Observations:  </th>  <td>  5370</td> \n",
       "</tr>\n",
       "<tr>\n",
       "  <th>Model:</th>                  <td>GLM</td>       <th>  Df Residuals:      </th>  <td>  5355</td> \n",
       "</tr>\n",
       "<tr>\n",
       "  <th>Model Family:</th>        <td>Binomial</td>     <th>  Df Model:          </th>  <td>    14</td> \n",
       "</tr>\n",
       "<tr>\n",
       "  <th>Link Function:</th>         <td>Logit</td>      <th>  Scale:             </th> <td>  1.0000</td>\n",
       "</tr>\n",
       "<tr>\n",
       "  <th>Method:</th>                <td>IRLS</td>       <th>  Log-Likelihood:    </th> <td> -2532.1</td>\n",
       "</tr>\n",
       "<tr>\n",
       "  <th>Date:</th>            <td>Mon, 14 Oct 2024</td> <th>  Deviance:          </th> <td>  5064.3</td>\n",
       "</tr>\n",
       "<tr>\n",
       "  <th>Time:</th>                <td>13:46:28</td>     <th>  Pearson chi2:      </th> <td>5.55e+03</td>\n",
       "</tr>\n",
       "<tr>\n",
       "  <th>No. Iterations:</th>         <td>19</td>        <th>  Pseudo R-squ. (CS):</th>  <td>0.3460</td> \n",
       "</tr>\n",
       "<tr>\n",
       "  <th>Covariance Type:</th>     <td>nonrobust</td>    <th>                     </th>     <td> </td>   \n",
       "</tr>\n",
       "</table>\n",
       "<table class=\"simpletable\">\n",
       "<tr>\n",
       "                        <td></td>                           <th>coef</th>     <th>std err</th>      <th>z</th>      <th>P>|z|</th>  <th>[0.025</th>    <th>0.975]</th>  \n",
       "</tr>\n",
       "<tr>\n",
       "  <th>const</th>                                         <td>   -1.1408</td> <td>    0.161</td> <td>   -7.098</td> <td> 0.000</td> <td>   -1.456</td> <td>   -0.826</td>\n",
       "</tr>\n",
       "<tr>\n",
       "  <th>Total Time Spent on Website</th>                   <td>    4.4595</td> <td>    0.165</td> <td>   27.012</td> <td> 0.000</td> <td>    4.136</td> <td>    4.783</td>\n",
       "</tr>\n",
       "<tr>\n",
       "  <th>Lead Origin_Landing Page Submission</th>           <td>   -1.2965</td> <td>    0.127</td> <td>  -10.171</td> <td> 0.000</td> <td>   -1.546</td> <td>   -1.047</td>\n",
       "</tr>\n",
       "<tr>\n",
       "  <th>Lead Origin_Lead Add Form</th>                     <td>    3.3133</td> <td>    0.239</td> <td>   13.854</td> <td> 0.000</td> <td>    2.845</td> <td>    3.782</td>\n",
       "</tr>\n",
       "<tr>\n",
       "  <th>Lead Source_Olark Chat</th>                        <td>    1.2043</td> <td>    0.133</td> <td>    9.073</td> <td> 0.000</td> <td>    0.944</td> <td>    1.464</td>\n",
       "</tr>\n",
       "<tr>\n",
       "  <th>Lead Source_Welingak Website</th>                  <td>    2.5899</td> <td>    1.034</td> <td>    2.506</td> <td> 0.012</td> <td>    0.564</td> <td>    4.616</td>\n",
       "</tr>\n",
       "<tr>\n",
       "  <th>Last Activity_Email Bounced</th>                   <td>   -1.1722</td> <td>    0.350</td> <td>   -3.349</td> <td> 0.001</td> <td>   -1.858</td> <td>   -0.486</td>\n",
       "</tr>\n",
       "<tr>\n",
       "  <th>Last Activity_Email Opened</th>                    <td>    0.5739</td> <td>    0.109</td> <td>    5.261</td> <td> 0.000</td> <td>    0.360</td> <td>    0.788</td>\n",
       "</tr>\n",
       "<tr>\n",
       "  <th>Last Activity_Email Received</th>                  <td>   21.3879</td> <td> 1.25e+04</td> <td>    0.002</td> <td> 0.999</td> <td>-2.45e+04</td> <td> 2.45e+04</td>\n",
       "</tr>\n",
       "<tr>\n",
       "  <th>Last Activity_Had a Phone Conversation</th>        <td>    2.3052</td> <td>    0.608</td> <td>    3.794</td> <td> 0.000</td> <td>    1.114</td> <td>    3.496</td>\n",
       "</tr>\n",
       "<tr>\n",
       "  <th>Last Activity_SMS Sent</th>                        <td>    1.4136</td> <td>    0.111</td> <td>   12.775</td> <td> 0.000</td> <td>    1.197</td> <td>    1.630</td>\n",
       "</tr>\n",
       "<tr>\n",
       "  <th>Specialization_Not provided</th>                   <td>   -1.1433</td> <td>    0.127</td> <td>   -8.981</td> <td> 0.000</td> <td>   -1.393</td> <td>   -0.894</td>\n",
       "</tr>\n",
       "<tr>\n",
       "  <th>Last Notable Activity_Modified</th>                <td>   -0.7273</td> <td>    0.091</td> <td>   -8.021</td> <td> 0.000</td> <td>   -0.905</td> <td>   -0.550</td>\n",
       "</tr>\n",
       "<tr>\n",
       "  <th>Last Notable Activity_Olark Chat Conversation</th> <td>   -1.0898</td> <td>    0.431</td> <td>   -2.530</td> <td> 0.011</td> <td>   -1.934</td> <td>   -0.245</td>\n",
       "</tr>\n",
       "<tr>\n",
       "  <th>Last Notable Activity_Unreachable</th>             <td>    1.8937</td> <td>    0.594</td> <td>    3.187</td> <td> 0.001</td> <td>    0.729</td> <td>    3.058</td>\n",
       "</tr>\n",
       "</table>"
      ],
      "text/latex": [
       "\\begin{center}\n",
       "\\begin{tabular}{lclc}\n",
       "\\toprule\n",
       "\\textbf{Dep. Variable:}                                 &    Converted     & \\textbf{  No. Observations:  } &     5370    \\\\\n",
       "\\textbf{Model:}                                         &       GLM        & \\textbf{  Df Residuals:      } &     5355    \\\\\n",
       "\\textbf{Model Family:}                                  &     Binomial     & \\textbf{  Df Model:          } &       14    \\\\\n",
       "\\textbf{Link Function:}                                 &      Logit       & \\textbf{  Scale:             } &    1.0000   \\\\\n",
       "\\textbf{Method:}                                        &       IRLS       & \\textbf{  Log-Likelihood:    } &   -2532.1   \\\\\n",
       "\\textbf{Date:}                                          & Mon, 14 Oct 2024 & \\textbf{  Deviance:          } &    5064.3   \\\\\n",
       "\\textbf{Time:}                                          &     13:46:28     & \\textbf{  Pearson chi2:      } &  5.55e+03   \\\\\n",
       "\\textbf{No. Iterations:}                                &        19        & \\textbf{  Pseudo R-squ. (CS):} &   0.3460    \\\\\n",
       "\\textbf{Covariance Type:}                               &    nonrobust     & \\textbf{                     } &             \\\\\n",
       "\\bottomrule\n",
       "\\end{tabular}\n",
       "\\begin{tabular}{lcccccc}\n",
       "                                                        & \\textbf{coef} & \\textbf{std err} & \\textbf{z} & \\textbf{P$> |$z$|$} & \\textbf{[0.025} & \\textbf{0.975]}  \\\\\n",
       "\\midrule\n",
       "\\textbf{const}                                          &      -1.1408  &        0.161     &    -7.098  &         0.000        &       -1.456    &       -0.826     \\\\\n",
       "\\textbf{Total Time Spent on Website}                    &       4.4595  &        0.165     &    27.012  &         0.000        &        4.136    &        4.783     \\\\\n",
       "\\textbf{Lead Origin\\_Landing Page Submission}           &      -1.2965  &        0.127     &   -10.171  &         0.000        &       -1.546    &       -1.047     \\\\\n",
       "\\textbf{Lead Origin\\_Lead Add Form}                     &       3.3133  &        0.239     &    13.854  &         0.000        &        2.845    &        3.782     \\\\\n",
       "\\textbf{Lead Source\\_Olark Chat}                        &       1.2043  &        0.133     &     9.073  &         0.000        &        0.944    &        1.464     \\\\\n",
       "\\textbf{Lead Source\\_Welingak Website}                  &       2.5899  &        1.034     &     2.506  &         0.012        &        0.564    &        4.616     \\\\\n",
       "\\textbf{Last Activity\\_Email Bounced}                   &      -1.1722  &        0.350     &    -3.349  &         0.001        &       -1.858    &       -0.486     \\\\\n",
       "\\textbf{Last Activity\\_Email Opened}                    &       0.5739  &        0.109     &     5.261  &         0.000        &        0.360    &        0.788     \\\\\n",
       "\\textbf{Last Activity\\_Email Received}                  &      21.3879  &     1.25e+04     &     0.002  &         0.999        &    -2.45e+04    &     2.45e+04     \\\\\n",
       "\\textbf{Last Activity\\_Had a Phone Conversation}        &       2.3052  &        0.608     &     3.794  &         0.000        &        1.114    &        3.496     \\\\\n",
       "\\textbf{Last Activity\\_SMS Sent}                        &       1.4136  &        0.111     &    12.775  &         0.000        &        1.197    &        1.630     \\\\\n",
       "\\textbf{Specialization\\_Not provided}                   &      -1.1433  &        0.127     &    -8.981  &         0.000        &       -1.393    &       -0.894     \\\\\n",
       "\\textbf{Last Notable Activity\\_Modified}                &      -0.7273  &        0.091     &    -8.021  &         0.000        &       -0.905    &       -0.550     \\\\\n",
       "\\textbf{Last Notable Activity\\_Olark Chat Conversation} &      -1.0898  &        0.431     &    -2.530  &         0.011        &       -1.934    &       -0.245     \\\\\n",
       "\\textbf{Last Notable Activity\\_Unreachable}             &       1.8937  &        0.594     &     3.187  &         0.001        &        0.729    &        3.058     \\\\\n",
       "\\bottomrule\n",
       "\\end{tabular}\n",
       "%\\caption{Generalized Linear Model Regression Results}\n",
       "\\end{center}"
      ],
      "text/plain": [
       "<class 'statsmodels.iolib.summary.Summary'>\n",
       "\"\"\"\n",
       "                 Generalized Linear Model Regression Results                  \n",
       "==============================================================================\n",
       "Dep. Variable:              Converted   No. Observations:                 5370\n",
       "Model:                            GLM   Df Residuals:                     5355\n",
       "Model Family:                Binomial   Df Model:                           14\n",
       "Link Function:                  Logit   Scale:                          1.0000\n",
       "Method:                          IRLS   Log-Likelihood:                -2532.1\n",
       "Date:                Mon, 14 Oct 2024   Deviance:                       5064.3\n",
       "Time:                        13:46:28   Pearson chi2:                 5.55e+03\n",
       "No. Iterations:                    19   Pseudo R-squ. (CS):             0.3460\n",
       "Covariance Type:            nonrobust                                         \n",
       "=================================================================================================================\n",
       "                                                    coef    std err          z      P>|z|      [0.025      0.975]\n",
       "-----------------------------------------------------------------------------------------------------------------\n",
       "const                                            -1.1408      0.161     -7.098      0.000      -1.456      -0.826\n",
       "Total Time Spent on Website                       4.4595      0.165     27.012      0.000       4.136       4.783\n",
       "Lead Origin_Landing Page Submission              -1.2965      0.127    -10.171      0.000      -1.546      -1.047\n",
       "Lead Origin_Lead Add Form                         3.3133      0.239     13.854      0.000       2.845       3.782\n",
       "Lead Source_Olark Chat                            1.2043      0.133      9.073      0.000       0.944       1.464\n",
       "Lead Source_Welingak Website                      2.5899      1.034      2.506      0.012       0.564       4.616\n",
       "Last Activity_Email Bounced                      -1.1722      0.350     -3.349      0.001      -1.858      -0.486\n",
       "Last Activity_Email Opened                        0.5739      0.109      5.261      0.000       0.360       0.788\n",
       "Last Activity_Email Received                     21.3879   1.25e+04      0.002      0.999   -2.45e+04    2.45e+04\n",
       "Last Activity_Had a Phone Conversation            2.3052      0.608      3.794      0.000       1.114       3.496\n",
       "Last Activity_SMS Sent                            1.4136      0.111     12.775      0.000       1.197       1.630\n",
       "Specialization_Not provided                      -1.1433      0.127     -8.981      0.000      -1.393      -0.894\n",
       "Last Notable Activity_Modified                   -0.7273      0.091     -8.021      0.000      -0.905      -0.550\n",
       "Last Notable Activity_Olark Chat Conversation    -1.0898      0.431     -2.530      0.011      -1.934      -0.245\n",
       "Last Notable Activity_Unreachable                 1.8937      0.594      3.187      0.001       0.729       3.058\n",
       "=================================================================================================================\n",
       "\"\"\""
      ]
     },
     "execution_count": 516,
     "metadata": {},
     "output_type": "execute_result"
    }
   ],
   "source": [
    "X_train_sm= sm.add_constant(X_train_rfe)\n",
    "lm1 = sm.GLM(y_train,X_train_sm,family=sm.families.Binomial())\n",
    "lm1= lm1.fit()\n",
    "lm1.summary()"
   ]
  },
  {
   "cell_type": "code",
   "execution_count": 517,
   "id": "cbf98c3d",
   "metadata": {},
   "outputs": [
    {
     "data": {
      "text/html": [
       "<div>\n",
       "<style scoped>\n",
       "    .dataframe tbody tr th:only-of-type {\n",
       "        vertical-align: middle;\n",
       "    }\n",
       "\n",
       "    .dataframe tbody tr th {\n",
       "        vertical-align: top;\n",
       "    }\n",
       "\n",
       "    .dataframe thead th {\n",
       "        text-align: right;\n",
       "    }\n",
       "</style>\n",
       "<table border=\"1\" class=\"dataframe\">\n",
       "  <thead>\n",
       "    <tr style=\"text-align: right;\">\n",
       "      <th></th>\n",
       "      <th>Features</th>\n",
       "      <th>VIF</th>\n",
       "    </tr>\n",
       "  </thead>\n",
       "  <tbody>\n",
       "    <tr>\n",
       "      <th>1</th>\n",
       "      <td>Lead Origin_Landing Page Submission</td>\n",
       "      <td>3.91</td>\n",
       "    </tr>\n",
       "    <tr>\n",
       "      <th>6</th>\n",
       "      <td>Last Activity_Email Opened</td>\n",
       "      <td>2.64</td>\n",
       "    </tr>\n",
       "    <tr>\n",
       "      <th>9</th>\n",
       "      <td>Last Activity_SMS Sent</td>\n",
       "      <td>2.52</td>\n",
       "    </tr>\n",
       "    <tr>\n",
       "      <th>0</th>\n",
       "      <td>Total Time Spent on Website</td>\n",
       "      <td>2.10</td>\n",
       "    </tr>\n",
       "    <tr>\n",
       "      <th>10</th>\n",
       "      <td>Specialization_Not provided</td>\n",
       "      <td>2.06</td>\n",
       "    </tr>\n",
       "    <tr>\n",
       "      <th>11</th>\n",
       "      <td>Last Notable Activity_Modified</td>\n",
       "      <td>1.68</td>\n",
       "    </tr>\n",
       "    <tr>\n",
       "      <th>2</th>\n",
       "      <td>Lead Origin_Lead Add Form</td>\n",
       "      <td>1.63</td>\n",
       "    </tr>\n",
       "    <tr>\n",
       "      <th>3</th>\n",
       "      <td>Lead Source_Olark Chat</td>\n",
       "      <td>1.55</td>\n",
       "    </tr>\n",
       "    <tr>\n",
       "      <th>4</th>\n",
       "      <td>Lead Source_Welingak Website</td>\n",
       "      <td>1.32</td>\n",
       "    </tr>\n",
       "    <tr>\n",
       "      <th>5</th>\n",
       "      <td>Last Activity_Email Bounced</td>\n",
       "      <td>1.14</td>\n",
       "    </tr>\n",
       "    <tr>\n",
       "      <th>12</th>\n",
       "      <td>Last Notable Activity_Olark Chat Conversation</td>\n",
       "      <td>1.06</td>\n",
       "    </tr>\n",
       "    <tr>\n",
       "      <th>13</th>\n",
       "      <td>Last Notable Activity_Unreachable</td>\n",
       "      <td>1.02</td>\n",
       "    </tr>\n",
       "    <tr>\n",
       "      <th>8</th>\n",
       "      <td>Last Activity_Had a Phone Conversation</td>\n",
       "      <td>1.01</td>\n",
       "    </tr>\n",
       "    <tr>\n",
       "      <th>7</th>\n",
       "      <td>Last Activity_Email Received</td>\n",
       "      <td>1.00</td>\n",
       "    </tr>\n",
       "  </tbody>\n",
       "</table>\n",
       "</div>"
      ],
      "text/plain": [
       "                                         Features   VIF\n",
       "1             Lead Origin_Landing Page Submission  3.91\n",
       "6                      Last Activity_Email Opened  2.64\n",
       "9                          Last Activity_SMS Sent  2.52\n",
       "0                     Total Time Spent on Website  2.10\n",
       "10                    Specialization_Not provided  2.06\n",
       "11                 Last Notable Activity_Modified  1.68\n",
       "2                       Lead Origin_Lead Add Form  1.63\n",
       "3                          Lead Source_Olark Chat  1.55\n",
       "4                    Lead Source_Welingak Website  1.32\n",
       "5                     Last Activity_Email Bounced  1.14\n",
       "12  Last Notable Activity_Olark Chat Conversation  1.06\n",
       "13              Last Notable Activity_Unreachable  1.02\n",
       "8          Last Activity_Had a Phone Conversation  1.01\n",
       "7                    Last Activity_Email Received  1.00"
      ]
     },
     "execution_count": 517,
     "metadata": {},
     "output_type": "execute_result"
    }
   ],
   "source": [
    "vif = pd.DataFrame()\n",
    "vif['Features'] = X_train_rfe.columns\n",
    "vif['VIF'] = [variance_inflation_factor(X_train_rfe.values, i) for i in range(X_train_rfe.shape[1])]\n",
    "vif['VIF'] = round(vif['VIF'], 2)\n",
    "vif = vif.sort_values(by = \"VIF\", ascending = False)\n",
    "vif"
   ]
  },
  {
   "cell_type": "markdown",
   "id": "0e1065e8",
   "metadata": {},
   "source": [
    "We can see that eventhough all the variables have VIF less than 5 Last Activity_Email Received is having \n",
    "p value as .999 , so we can drop Last Activity_Email Received as well."
   ]
  },
  {
   "cell_type": "code",
   "execution_count": 518,
   "id": "468da7e9",
   "metadata": {},
   "outputs": [],
   "source": [
    "X_train_rfe= X_train_rfe.drop(\"Last Activity_Email Received\",axis=1)"
   ]
  },
  {
   "cell_type": "markdown",
   "id": "b9fcf86b",
   "metadata": {},
   "source": [
    "#### Building the 3rd model"
   ]
  },
  {
   "cell_type": "code",
   "execution_count": 519,
   "id": "d36d6915",
   "metadata": {},
   "outputs": [
    {
     "data": {
      "text/html": [
       "<table class=\"simpletable\">\n",
       "<caption>Generalized Linear Model Regression Results</caption>\n",
       "<tr>\n",
       "  <th>Dep. Variable:</th>       <td>Converted</td>    <th>  No. Observations:  </th>  <td>  5370</td> \n",
       "</tr>\n",
       "<tr>\n",
       "  <th>Model:</th>                  <td>GLM</td>       <th>  Df Residuals:      </th>  <td>  5356</td> \n",
       "</tr>\n",
       "<tr>\n",
       "  <th>Model Family:</th>        <td>Binomial</td>     <th>  Df Model:          </th>  <td>    13</td> \n",
       "</tr>\n",
       "<tr>\n",
       "  <th>Link Function:</th>         <td>Logit</td>      <th>  Scale:             </th> <td>  1.0000</td>\n",
       "</tr>\n",
       "<tr>\n",
       "  <th>Method:</th>                <td>IRLS</td>       <th>  Log-Likelihood:    </th> <td> -2534.5</td>\n",
       "</tr>\n",
       "<tr>\n",
       "  <th>Date:</th>            <td>Mon, 14 Oct 2024</td> <th>  Deviance:          </th> <td>  5069.0</td>\n",
       "</tr>\n",
       "<tr>\n",
       "  <th>Time:</th>                <td>13:46:28</td>     <th>  Pearson chi2:      </th> <td>5.55e+03</td>\n",
       "</tr>\n",
       "<tr>\n",
       "  <th>No. Iterations:</th>          <td>7</td>        <th>  Pseudo R-squ. (CS):</th>  <td>0.3454</td> \n",
       "</tr>\n",
       "<tr>\n",
       "  <th>Covariance Type:</th>     <td>nonrobust</td>    <th>                     </th>     <td> </td>   \n",
       "</tr>\n",
       "</table>\n",
       "<table class=\"simpletable\">\n",
       "<tr>\n",
       "                        <td></td>                           <th>coef</th>     <th>std err</th>      <th>z</th>      <th>P>|z|</th>  <th>[0.025</th>    <th>0.975]</th>  \n",
       "</tr>\n",
       "<tr>\n",
       "  <th>const</th>                                         <td>   -1.1332</td> <td>    0.161</td> <td>   -7.057</td> <td> 0.000</td> <td>   -1.448</td> <td>   -0.819</td>\n",
       "</tr>\n",
       "<tr>\n",
       "  <th>Total Time Spent on Website</th>                   <td>    4.4628</td> <td>    0.165</td> <td>   27.036</td> <td> 0.000</td> <td>    4.139</td> <td>    4.786</td>\n",
       "</tr>\n",
       "<tr>\n",
       "  <th>Lead Origin_Landing Page Submission</th>           <td>   -1.2932</td> <td>    0.127</td> <td>  -10.150</td> <td> 0.000</td> <td>   -1.543</td> <td>   -1.043</td>\n",
       "</tr>\n",
       "<tr>\n",
       "  <th>Lead Origin_Lead Add Form</th>                     <td>    3.3152</td> <td>    0.239</td> <td>   13.864</td> <td> 0.000</td> <td>    2.847</td> <td>    3.784</td>\n",
       "</tr>\n",
       "<tr>\n",
       "  <th>Lead Source_Olark Chat</th>                        <td>    1.2049</td> <td>    0.133</td> <td>    9.080</td> <td> 0.000</td> <td>    0.945</td> <td>    1.465</td>\n",
       "</tr>\n",
       "<tr>\n",
       "  <th>Lead Source_Welingak Website</th>                  <td>    2.5896</td> <td>    1.033</td> <td>    2.506</td> <td> 0.012</td> <td>    0.564</td> <td>    4.615</td>\n",
       "</tr>\n",
       "<tr>\n",
       "  <th>Last Activity_Email Bounced</th>                   <td>   -1.1821</td> <td>    0.350</td> <td>   -3.377</td> <td> 0.001</td> <td>   -1.868</td> <td>   -0.496</td>\n",
       "</tr>\n",
       "<tr>\n",
       "  <th>Last Activity_Email Opened</th>                    <td>    0.5634</td> <td>    0.109</td> <td>    5.175</td> <td> 0.000</td> <td>    0.350</td> <td>    0.777</td>\n",
       "</tr>\n",
       "<tr>\n",
       "  <th>Last Activity_Had a Phone Conversation</th>        <td>    2.2956</td> <td>    0.608</td> <td>    3.778</td> <td> 0.000</td> <td>    1.105</td> <td>    3.486</td>\n",
       "</tr>\n",
       "<tr>\n",
       "  <th>Last Activity_SMS Sent</th>                        <td>    1.4031</td> <td>    0.110</td> <td>   12.707</td> <td> 0.000</td> <td>    1.187</td> <td>    1.619</td>\n",
       "</tr>\n",
       "<tr>\n",
       "  <th>Specialization_Not provided</th>                   <td>   -1.1427</td> <td>    0.127</td> <td>   -8.979</td> <td> 0.000</td> <td>   -1.392</td> <td>   -0.893</td>\n",
       "</tr>\n",
       "<tr>\n",
       "  <th>Last Notable Activity_Modified</th>                <td>   -0.7293</td> <td>    0.091</td> <td>   -8.049</td> <td> 0.000</td> <td>   -0.907</td> <td>   -0.552</td>\n",
       "</tr>\n",
       "<tr>\n",
       "  <th>Last Notable Activity_Olark Chat Conversation</th> <td>   -1.0999</td> <td>    0.431</td> <td>   -2.553</td> <td> 0.011</td> <td>   -1.944</td> <td>   -0.256</td>\n",
       "</tr>\n",
       "<tr>\n",
       "  <th>Last Notable Activity_Unreachable</th>             <td>    1.8832</td> <td>    0.594</td> <td>    3.169</td> <td> 0.002</td> <td>    0.719</td> <td>    3.048</td>\n",
       "</tr>\n",
       "</table>"
      ],
      "text/latex": [
       "\\begin{center}\n",
       "\\begin{tabular}{lclc}\n",
       "\\toprule\n",
       "\\textbf{Dep. Variable:}                                 &    Converted     & \\textbf{  No. Observations:  } &     5370    \\\\\n",
       "\\textbf{Model:}                                         &       GLM        & \\textbf{  Df Residuals:      } &     5356    \\\\\n",
       "\\textbf{Model Family:}                                  &     Binomial     & \\textbf{  Df Model:          } &       13    \\\\\n",
       "\\textbf{Link Function:}                                 &      Logit       & \\textbf{  Scale:             } &    1.0000   \\\\\n",
       "\\textbf{Method:}                                        &       IRLS       & \\textbf{  Log-Likelihood:    } &   -2534.5   \\\\\n",
       "\\textbf{Date:}                                          & Mon, 14 Oct 2024 & \\textbf{  Deviance:          } &    5069.0   \\\\\n",
       "\\textbf{Time:}                                          &     13:46:28     & \\textbf{  Pearson chi2:      } &  5.55e+03   \\\\\n",
       "\\textbf{No. Iterations:}                                &        7         & \\textbf{  Pseudo R-squ. (CS):} &   0.3454    \\\\\n",
       "\\textbf{Covariance Type:}                               &    nonrobust     & \\textbf{                     } &             \\\\\n",
       "\\bottomrule\n",
       "\\end{tabular}\n",
       "\\begin{tabular}{lcccccc}\n",
       "                                                        & \\textbf{coef} & \\textbf{std err} & \\textbf{z} & \\textbf{P$> |$z$|$} & \\textbf{[0.025} & \\textbf{0.975]}  \\\\\n",
       "\\midrule\n",
       "\\textbf{const}                                          &      -1.1332  &        0.161     &    -7.057  &         0.000        &       -1.448    &       -0.819     \\\\\n",
       "\\textbf{Total Time Spent on Website}                    &       4.4628  &        0.165     &    27.036  &         0.000        &        4.139    &        4.786     \\\\\n",
       "\\textbf{Lead Origin\\_Landing Page Submission}           &      -1.2932  &        0.127     &   -10.150  &         0.000        &       -1.543    &       -1.043     \\\\\n",
       "\\textbf{Lead Origin\\_Lead Add Form}                     &       3.3152  &        0.239     &    13.864  &         0.000        &        2.847    &        3.784     \\\\\n",
       "\\textbf{Lead Source\\_Olark Chat}                        &       1.2049  &        0.133     &     9.080  &         0.000        &        0.945    &        1.465     \\\\\n",
       "\\textbf{Lead Source\\_Welingak Website}                  &       2.5896  &        1.033     &     2.506  &         0.012        &        0.564    &        4.615     \\\\\n",
       "\\textbf{Last Activity\\_Email Bounced}                   &      -1.1821  &        0.350     &    -3.377  &         0.001        &       -1.868    &       -0.496     \\\\\n",
       "\\textbf{Last Activity\\_Email Opened}                    &       0.5634  &        0.109     &     5.175  &         0.000        &        0.350    &        0.777     \\\\\n",
       "\\textbf{Last Activity\\_Had a Phone Conversation}        &       2.2956  &        0.608     &     3.778  &         0.000        &        1.105    &        3.486     \\\\\n",
       "\\textbf{Last Activity\\_SMS Sent}                        &       1.4031  &        0.110     &    12.707  &         0.000        &        1.187    &        1.619     \\\\\n",
       "\\textbf{Specialization\\_Not provided}                   &      -1.1427  &        0.127     &    -8.979  &         0.000        &       -1.392    &       -0.893     \\\\\n",
       "\\textbf{Last Notable Activity\\_Modified}                &      -0.7293  &        0.091     &    -8.049  &         0.000        &       -0.907    &       -0.552     \\\\\n",
       "\\textbf{Last Notable Activity\\_Olark Chat Conversation} &      -1.0999  &        0.431     &    -2.553  &         0.011        &       -1.944    &       -0.256     \\\\\n",
       "\\textbf{Last Notable Activity\\_Unreachable}             &       1.8832  &        0.594     &     3.169  &         0.002        &        0.719    &        3.048     \\\\\n",
       "\\bottomrule\n",
       "\\end{tabular}\n",
       "%\\caption{Generalized Linear Model Regression Results}\n",
       "\\end{center}"
      ],
      "text/plain": [
       "<class 'statsmodels.iolib.summary.Summary'>\n",
       "\"\"\"\n",
       "                 Generalized Linear Model Regression Results                  \n",
       "==============================================================================\n",
       "Dep. Variable:              Converted   No. Observations:                 5370\n",
       "Model:                            GLM   Df Residuals:                     5356\n",
       "Model Family:                Binomial   Df Model:                           13\n",
       "Link Function:                  Logit   Scale:                          1.0000\n",
       "Method:                          IRLS   Log-Likelihood:                -2534.5\n",
       "Date:                Mon, 14 Oct 2024   Deviance:                       5069.0\n",
       "Time:                        13:46:28   Pearson chi2:                 5.55e+03\n",
       "No. Iterations:                     7   Pseudo R-squ. (CS):             0.3454\n",
       "Covariance Type:            nonrobust                                         \n",
       "=================================================================================================================\n",
       "                                                    coef    std err          z      P>|z|      [0.025      0.975]\n",
       "-----------------------------------------------------------------------------------------------------------------\n",
       "const                                            -1.1332      0.161     -7.057      0.000      -1.448      -0.819\n",
       "Total Time Spent on Website                       4.4628      0.165     27.036      0.000       4.139       4.786\n",
       "Lead Origin_Landing Page Submission              -1.2932      0.127    -10.150      0.000      -1.543      -1.043\n",
       "Lead Origin_Lead Add Form                         3.3152      0.239     13.864      0.000       2.847       3.784\n",
       "Lead Source_Olark Chat                            1.2049      0.133      9.080      0.000       0.945       1.465\n",
       "Lead Source_Welingak Website                      2.5896      1.033      2.506      0.012       0.564       4.615\n",
       "Last Activity_Email Bounced                      -1.1821      0.350     -3.377      0.001      -1.868      -0.496\n",
       "Last Activity_Email Opened                        0.5634      0.109      5.175      0.000       0.350       0.777\n",
       "Last Activity_Had a Phone Conversation            2.2956      0.608      3.778      0.000       1.105       3.486\n",
       "Last Activity_SMS Sent                            1.4031      0.110     12.707      0.000       1.187       1.619\n",
       "Specialization_Not provided                      -1.1427      0.127     -8.979      0.000      -1.392      -0.893\n",
       "Last Notable Activity_Modified                   -0.7293      0.091     -8.049      0.000      -0.907      -0.552\n",
       "Last Notable Activity_Olark Chat Conversation    -1.0999      0.431     -2.553      0.011      -1.944      -0.256\n",
       "Last Notable Activity_Unreachable                 1.8832      0.594      3.169      0.002       0.719       3.048\n",
       "=================================================================================================================\n",
       "\"\"\""
      ]
     },
     "execution_count": 519,
     "metadata": {},
     "output_type": "execute_result"
    }
   ],
   "source": [
    "X_train_sm = sm.add_constant(X_train_rfe)\n",
    "lm3= sm.GLM(y_train,X_train_sm,family=sm.families.Binomial())\n",
    "lm3= lm3.fit()\n",
    "lm3.summary()"
   ]
  },
  {
   "cell_type": "code",
   "execution_count": 520,
   "id": "48cc5149",
   "metadata": {},
   "outputs": [
    {
     "data": {
      "text/html": [
       "<div>\n",
       "<style scoped>\n",
       "    .dataframe tbody tr th:only-of-type {\n",
       "        vertical-align: middle;\n",
       "    }\n",
       "\n",
       "    .dataframe tbody tr th {\n",
       "        vertical-align: top;\n",
       "    }\n",
       "\n",
       "    .dataframe thead th {\n",
       "        text-align: right;\n",
       "    }\n",
       "</style>\n",
       "<table border=\"1\" class=\"dataframe\">\n",
       "  <thead>\n",
       "    <tr style=\"text-align: right;\">\n",
       "      <th></th>\n",
       "      <th>Features</th>\n",
       "      <th>VIF</th>\n",
       "    </tr>\n",
       "  </thead>\n",
       "  <tbody>\n",
       "    <tr>\n",
       "      <th>1</th>\n",
       "      <td>Lead Origin_Landing Page Submission</td>\n",
       "      <td>3.91</td>\n",
       "    </tr>\n",
       "    <tr>\n",
       "      <th>6</th>\n",
       "      <td>Last Activity_Email Opened</td>\n",
       "      <td>2.64</td>\n",
       "    </tr>\n",
       "    <tr>\n",
       "      <th>8</th>\n",
       "      <td>Last Activity_SMS Sent</td>\n",
       "      <td>2.51</td>\n",
       "    </tr>\n",
       "    <tr>\n",
       "      <th>0</th>\n",
       "      <td>Total Time Spent on Website</td>\n",
       "      <td>2.10</td>\n",
       "    </tr>\n",
       "    <tr>\n",
       "      <th>9</th>\n",
       "      <td>Specialization_Not provided</td>\n",
       "      <td>2.06</td>\n",
       "    </tr>\n",
       "    <tr>\n",
       "      <th>10</th>\n",
       "      <td>Last Notable Activity_Modified</td>\n",
       "      <td>1.68</td>\n",
       "    </tr>\n",
       "    <tr>\n",
       "      <th>2</th>\n",
       "      <td>Lead Origin_Lead Add Form</td>\n",
       "      <td>1.63</td>\n",
       "    </tr>\n",
       "    <tr>\n",
       "      <th>3</th>\n",
       "      <td>Lead Source_Olark Chat</td>\n",
       "      <td>1.55</td>\n",
       "    </tr>\n",
       "    <tr>\n",
       "      <th>4</th>\n",
       "      <td>Lead Source_Welingak Website</td>\n",
       "      <td>1.32</td>\n",
       "    </tr>\n",
       "    <tr>\n",
       "      <th>5</th>\n",
       "      <td>Last Activity_Email Bounced</td>\n",
       "      <td>1.14</td>\n",
       "    </tr>\n",
       "    <tr>\n",
       "      <th>11</th>\n",
       "      <td>Last Notable Activity_Olark Chat Conversation</td>\n",
       "      <td>1.06</td>\n",
       "    </tr>\n",
       "    <tr>\n",
       "      <th>12</th>\n",
       "      <td>Last Notable Activity_Unreachable</td>\n",
       "      <td>1.02</td>\n",
       "    </tr>\n",
       "    <tr>\n",
       "      <th>7</th>\n",
       "      <td>Last Activity_Had a Phone Conversation</td>\n",
       "      <td>1.01</td>\n",
       "    </tr>\n",
       "  </tbody>\n",
       "</table>\n",
       "</div>"
      ],
      "text/plain": [
       "                                         Features   VIF\n",
       "1             Lead Origin_Landing Page Submission  3.91\n",
       "6                      Last Activity_Email Opened  2.64\n",
       "8                          Last Activity_SMS Sent  2.51\n",
       "0                     Total Time Spent on Website  2.10\n",
       "9                     Specialization_Not provided  2.06\n",
       "10                 Last Notable Activity_Modified  1.68\n",
       "2                       Lead Origin_Lead Add Form  1.63\n",
       "3                          Lead Source_Olark Chat  1.55\n",
       "4                    Lead Source_Welingak Website  1.32\n",
       "5                     Last Activity_Email Bounced  1.14\n",
       "11  Last Notable Activity_Olark Chat Conversation  1.06\n",
       "12              Last Notable Activity_Unreachable  1.02\n",
       "7          Last Activity_Had a Phone Conversation  1.01"
      ]
     },
     "execution_count": 520,
     "metadata": {},
     "output_type": "execute_result"
    }
   ],
   "source": [
    "vif = pd.DataFrame()\n",
    "vif['Features'] = X_train_rfe.columns\n",
    "vif['VIF'] = [variance_inflation_factor(X_train_rfe.values, i) for i in range(X_train_rfe.shape[1])]\n",
    "vif['VIF'] = round(vif['VIF'], 2)\n",
    "vif = vif.sort_values(by = \"VIF\", ascending = False)\n",
    "vif"
   ]
  },
  {
   "cell_type": "markdown",
   "id": "0220bd14",
   "metadata": {},
   "source": [
    "lm3 seems to be a good model as it has all the variables with VIF less than 5 and p value less than .05\n",
    "Hence We can make predictions using this model lm3."
   ]
  },
  {
   "cell_type": "code",
   "execution_count": 521,
   "id": "e0fe052d",
   "metadata": {},
   "outputs": [
    {
     "data": {
      "text/plain": [
       "array([0.22849588, 0.20903509, 0.07127383, ..., 0.48183367, 0.18276665,\n",
       "       0.37573949])"
      ]
     },
     "execution_count": 521,
     "metadata": {},
     "output_type": "execute_result"
    }
   ],
   "source": [
    "y_train_pred= lm3.predict(X_train_sm).values.reshape(-1)\n",
    "y_train_pred"
   ]
  },
  {
   "cell_type": "code",
   "execution_count": 522,
   "id": "e9812c3c",
   "metadata": {},
   "outputs": [],
   "source": [
    "y_train_final =pd.DataFrame({'Converted':y_train.values,'Converted_prob':y_train_pred})"
   ]
  },
  {
   "cell_type": "code",
   "execution_count": 523,
   "id": "9316f8e8",
   "metadata": {},
   "outputs": [
    {
     "data": {
      "text/html": [
       "<div>\n",
       "<style scoped>\n",
       "    .dataframe tbody tr th:only-of-type {\n",
       "        vertical-align: middle;\n",
       "    }\n",
       "\n",
       "    .dataframe tbody tr th {\n",
       "        vertical-align: top;\n",
       "    }\n",
       "\n",
       "    .dataframe thead th {\n",
       "        text-align: right;\n",
       "    }\n",
       "</style>\n",
       "<table border=\"1\" class=\"dataframe\">\n",
       "  <thead>\n",
       "    <tr style=\"text-align: right;\">\n",
       "      <th></th>\n",
       "      <th>Converted</th>\n",
       "      <th>Converted_prob</th>\n",
       "    </tr>\n",
       "  </thead>\n",
       "  <tbody>\n",
       "    <tr>\n",
       "      <th>0</th>\n",
       "      <td>0</td>\n",
       "      <td>0.228496</td>\n",
       "    </tr>\n",
       "    <tr>\n",
       "      <th>1</th>\n",
       "      <td>0</td>\n",
       "      <td>0.209035</td>\n",
       "    </tr>\n",
       "    <tr>\n",
       "      <th>2</th>\n",
       "      <td>0</td>\n",
       "      <td>0.071274</td>\n",
       "    </tr>\n",
       "    <tr>\n",
       "      <th>3</th>\n",
       "      <td>0</td>\n",
       "      <td>0.109383</td>\n",
       "    </tr>\n",
       "    <tr>\n",
       "      <th>4</th>\n",
       "      <td>0</td>\n",
       "      <td>0.013471</td>\n",
       "    </tr>\n",
       "  </tbody>\n",
       "</table>\n",
       "</div>"
      ],
      "text/plain": [
       "   Converted  Converted_prob\n",
       "0          0        0.228496\n",
       "1          0        0.209035\n",
       "2          0        0.071274\n",
       "3          0        0.109383\n",
       "4          0        0.013471"
      ]
     },
     "execution_count": 523,
     "metadata": {},
     "output_type": "execute_result"
    }
   ],
   "source": [
    "y_train_final.head()"
   ]
  },
  {
   "cell_type": "code",
   "execution_count": 524,
   "id": "7fa7785a",
   "metadata": {},
   "outputs": [
    {
     "data": {
      "text/html": [
       "<div>\n",
       "<style scoped>\n",
       "    .dataframe tbody tr th:only-of-type {\n",
       "        vertical-align: middle;\n",
       "    }\n",
       "\n",
       "    .dataframe tbody tr th {\n",
       "        vertical-align: top;\n",
       "    }\n",
       "\n",
       "    .dataframe thead th {\n",
       "        text-align: right;\n",
       "    }\n",
       "</style>\n",
       "<table border=\"1\" class=\"dataframe\">\n",
       "  <thead>\n",
       "    <tr style=\"text-align: right;\">\n",
       "      <th></th>\n",
       "      <th>Converted</th>\n",
       "      <th>Converted_prob</th>\n",
       "      <th>Predicted</th>\n",
       "    </tr>\n",
       "  </thead>\n",
       "  <tbody>\n",
       "    <tr>\n",
       "      <th>0</th>\n",
       "      <td>0</td>\n",
       "      <td>0.228496</td>\n",
       "      <td>0</td>\n",
       "    </tr>\n",
       "    <tr>\n",
       "      <th>1</th>\n",
       "      <td>0</td>\n",
       "      <td>0.209035</td>\n",
       "      <td>0</td>\n",
       "    </tr>\n",
       "    <tr>\n",
       "      <th>2</th>\n",
       "      <td>0</td>\n",
       "      <td>0.071274</td>\n",
       "      <td>0</td>\n",
       "    </tr>\n",
       "    <tr>\n",
       "      <th>3</th>\n",
       "      <td>0</td>\n",
       "      <td>0.109383</td>\n",
       "      <td>0</td>\n",
       "    </tr>\n",
       "    <tr>\n",
       "      <th>4</th>\n",
       "      <td>0</td>\n",
       "      <td>0.013471</td>\n",
       "      <td>0</td>\n",
       "    </tr>\n",
       "  </tbody>\n",
       "</table>\n",
       "</div>"
      ],
      "text/plain": [
       "   Converted  Converted_prob  Predicted\n",
       "0          0        0.228496          0\n",
       "1          0        0.209035          0\n",
       "2          0        0.071274          0\n",
       "3          0        0.109383          0\n",
       "4          0        0.013471          0"
      ]
     },
     "execution_count": 524,
     "metadata": {},
     "output_type": "execute_result"
    }
   ],
   "source": [
    "y_train_final[\"Predicted\"] = y_train_final.Converted_prob.apply(lambda x: 1 if x> 0.5 else 0)\n",
    "y_train_final.head()\n"
   ]
  },
  {
   "cell_type": "markdown",
   "id": "7803fdd5",
   "metadata": {},
   "source": [
    "#### Checking accuracy  & confusion matrix for threshold of 0.5"
   ]
  },
  {
   "cell_type": "code",
   "execution_count": 525,
   "id": "3cc2dbe6",
   "metadata": {},
   "outputs": [
    {
     "data": {
      "text/plain": [
       "0.786219739292365"
      ]
     },
     "execution_count": 525,
     "metadata": {},
     "output_type": "execute_result"
    }
   ],
   "source": [
    "accuracy = metrics.accuracy_score(y_train_final.Converted,y_train_final.Predicted)\n",
    "accuracy"
   ]
  },
  {
   "cell_type": "markdown",
   "id": "3e7df9e4",
   "metadata": {},
   "source": [
    "Confusion matrix"
   ]
  },
  {
   "cell_type": "code",
   "execution_count": 526,
   "id": "d1c74943",
   "metadata": {},
   "outputs": [
    {
     "data": {
      "text/plain": [
       "array([[2595,  455],\n",
       "       [ 693, 1627]], dtype=int64)"
      ]
     },
     "execution_count": 526,
     "metadata": {},
     "output_type": "execute_result"
    }
   ],
   "source": [
    "confusion_matrix= metrics.confusion_matrix(y_train_final.Converted,y_train_final.Predicted)\n",
    "confusion_matrix"
   ]
  },
  {
   "cell_type": "markdown",
   "id": "d2c9e18e",
   "metadata": {},
   "source": [
    "### Other metrics like Sensitivity,Specificity etc"
   ]
  },
  {
   "cell_type": "markdown",
   "id": "8e3a3caa",
   "metadata": {},
   "source": [
    " confusion matrix \n",
    "    [2595,  455],\n",
    "    [ 693, 1627]\n",
    "    "
   ]
  },
  {
   "cell_type": "code",
   "execution_count": 527,
   "id": "4bf29f88",
   "metadata": {},
   "outputs": [],
   "source": [
    "TN = confusion_matrix[0,0]\n",
    "FP = confusion_matrix[0,1]\n",
    "FN = confusion_matrix[1,0]\n",
    "TP = confusion_matrix[1,1]\n"
   ]
  },
  {
   "cell_type": "code",
   "execution_count": 528,
   "id": "065aea00",
   "metadata": {},
   "outputs": [
    {
     "data": {
      "text/plain": [
       "0.7012931034482759"
      ]
     },
     "execution_count": 528,
     "metadata": {},
     "output_type": "execute_result"
    }
   ],
   "source": [
    "# sensitivity\n",
    "sens = TP/float(TP+FN)\n",
    "sens"
   ]
  },
  {
   "cell_type": "code",
   "execution_count": 529,
   "id": "caa1e758",
   "metadata": {},
   "outputs": [
    {
     "data": {
      "text/plain": [
       "0.8508196721311475"
      ]
     },
     "execution_count": 529,
     "metadata": {},
     "output_type": "execute_result"
    }
   ],
   "source": [
    "# specificity\n",
    "spec = TN/float(TN+FP)\n",
    "spec"
   ]
  },
  {
   "cell_type": "code",
   "execution_count": 530,
   "id": "c0f0a8e5",
   "metadata": {},
   "outputs": [
    {
     "data": {
      "text/plain": [
       "0.14918032786885246"
      ]
     },
     "execution_count": 530,
     "metadata": {},
     "output_type": "execute_result"
    }
   ],
   "source": [
    "# FPR\n",
    "FPR = FP/float(TN+FP)\n",
    "FPR"
   ]
  },
  {
   "cell_type": "code",
   "execution_count": 531,
   "id": "5acaeb9e",
   "metadata": {},
   "outputs": [],
   "source": [
    "## Plotting ROC curve"
   ]
  },
  {
   "cell_type": "code",
   "execution_count": 532,
   "id": "a928aee6",
   "metadata": {},
   "outputs": [],
   "source": [
    "def draw_roc( actual, probs ):\n",
    "    fpr, tpr, thresholds = metrics.roc_curve( actual, probs,\n",
    "                                              drop_intermediate = False )\n",
    "    auc_score = metrics.roc_auc_score( actual, probs )\n",
    "    plt.figure(figsize=(5, 5))\n",
    "    plt.plot( fpr, tpr, label='ROC curve (area = %0.2f)' % auc_score )\n",
    "    plt.plot([0, 1], [0, 1], 'k--')\n",
    "    plt.xlim([0.0, 1.0])\n",
    "    plt.ylim([0.0, 1.05])\n",
    "    plt.xlabel('False Positive Rate or [1 - True Negative Rate]')\n",
    "    plt.ylabel('True Positive Rate')\n",
    "    plt.title('Receiver operating characteristic example')\n",
    "    plt.legend(loc=\"lower right\")\n",
    "    plt.show()\n",
    "\n",
    "    return None"
   ]
  },
  {
   "cell_type": "code",
   "execution_count": 533,
   "id": "c78bafc0",
   "metadata": {},
   "outputs": [],
   "source": [
    "fpr, tpr, thresholds = metrics.roc_curve( y_train_final.Converted, y_train_final.Converted_prob, drop_intermediate = False )"
   ]
  },
  {
   "cell_type": "code",
   "execution_count": 534,
   "id": "66ec2374",
   "metadata": {},
   "outputs": [
    {
     "data": {
      "image/png": "[encoded data removed]",
      "text/plain": [
       "<Figure size 500x500 with 1 Axes>"
      ]
     },
     "metadata": {},
     "output_type": "display_data"
    }
   ],
   "source": [
    "draw_roc(y_train_final.Converted, y_train_final.Converted_prob)"
   ]
  },
  {
   "cell_type": "markdown",
   "id": "24748902",
   "metadata": {},
   "source": [
    "### Finding the optimal cut off"
   ]
  },
  {
   "cell_type": "code",
   "execution_count": 535,
   "id": "c841d95d",
   "metadata": {},
   "outputs": [
    {
     "data": {
      "text/html": [
       "<div>\n",
       "<style scoped>\n",
       "    .dataframe tbody tr th:only-of-type {\n",
       "        vertical-align: middle;\n",
       "    }\n",
       "\n",
       "    .dataframe tbody tr th {\n",
       "        vertical-align: top;\n",
       "    }\n",
       "\n",
       "    .dataframe thead th {\n",
       "        text-align: right;\n",
       "    }\n",
       "</style>\n",
       "<table border=\"1\" class=\"dataframe\">\n",
       "  <thead>\n",
       "    <tr style=\"text-align: right;\">\n",
       "      <th></th>\n",
       "      <th>Converted</th>\n",
       "      <th>Converted_prob</th>\n",
       "      <th>Predicted</th>\n",
       "      <th>0.0</th>\n",
       "      <th>0.1</th>\n",
       "      <th>0.2</th>\n",
       "      <th>0.3</th>\n",
       "      <th>0.4</th>\n",
       "      <th>0.5</th>\n",
       "      <th>0.6</th>\n",
       "      <th>0.7</th>\n",
       "      <th>0.8</th>\n",
       "      <th>0.9</th>\n",
       "    </tr>\n",
       "  </thead>\n",
       "  <tbody>\n",
       "    <tr>\n",
       "      <th>0</th>\n",
       "      <td>0</td>\n",
       "      <td>0.228496</td>\n",
       "      <td>0</td>\n",
       "      <td>1</td>\n",
       "      <td>1</td>\n",
       "      <td>1</td>\n",
       "      <td>0</td>\n",
       "      <td>0</td>\n",
       "      <td>0</td>\n",
       "      <td>0</td>\n",
       "      <td>0</td>\n",
       "      <td>0</td>\n",
       "      <td>0</td>\n",
       "    </tr>\n",
       "    <tr>\n",
       "      <th>1</th>\n",
       "      <td>0</td>\n",
       "      <td>0.209035</td>\n",
       "      <td>0</td>\n",
       "      <td>1</td>\n",
       "      <td>1</td>\n",
       "      <td>1</td>\n",
       "      <td>0</td>\n",
       "      <td>0</td>\n",
       "      <td>0</td>\n",
       "      <td>0</td>\n",
       "      <td>0</td>\n",
       "      <td>0</td>\n",
       "      <td>0</td>\n",
       "    </tr>\n",
       "    <tr>\n",
       "      <th>2</th>\n",
       "      <td>0</td>\n",
       "      <td>0.071274</td>\n",
       "      <td>0</td>\n",
       "      <td>1</td>\n",
       "      <td>0</td>\n",
       "      <td>0</td>\n",
       "      <td>0</td>\n",
       "      <td>0</td>\n",
       "      <td>0</td>\n",
       "      <td>0</td>\n",
       "      <td>0</td>\n",
       "      <td>0</td>\n",
       "      <td>0</td>\n",
       "    </tr>\n",
       "    <tr>\n",
       "      <th>3</th>\n",
       "      <td>0</td>\n",
       "      <td>0.109383</td>\n",
       "      <td>0</td>\n",
       "      <td>1</td>\n",
       "      <td>1</td>\n",
       "      <td>0</td>\n",
       "      <td>0</td>\n",
       "      <td>0</td>\n",
       "      <td>0</td>\n",
       "      <td>0</td>\n",
       "      <td>0</td>\n",
       "      <td>0</td>\n",
       "      <td>0</td>\n",
       "    </tr>\n",
       "    <tr>\n",
       "      <th>4</th>\n",
       "      <td>0</td>\n",
       "      <td>0.013471</td>\n",
       "      <td>0</td>\n",
       "      <td>1</td>\n",
       "      <td>0</td>\n",
       "      <td>0</td>\n",
       "      <td>0</td>\n",
       "      <td>0</td>\n",
       "      <td>0</td>\n",
       "      <td>0</td>\n",
       "      <td>0</td>\n",
       "      <td>0</td>\n",
       "      <td>0</td>\n",
       "    </tr>\n",
       "  </tbody>\n",
       "</table>\n",
       "</div>"
      ],
      "text/plain": [
       "   Converted  Converted_prob  Predicted  0.0  0.1  0.2  0.3  0.4  0.5  0.6  \\\n",
       "0          0        0.228496          0    1    1    1    0    0    0    0   \n",
       "1          0        0.209035          0    1    1    1    0    0    0    0   \n",
       "2          0        0.071274          0    1    0    0    0    0    0    0   \n",
       "3          0        0.109383          0    1    1    0    0    0    0    0   \n",
       "4          0        0.013471          0    1    0    0    0    0    0    0   \n",
       "\n",
       "   0.7  0.8  0.9  \n",
       "0    0    0    0  \n",
       "1    0    0    0  \n",
       "2    0    0    0  \n",
       "3    0    0    0  \n",
       "4    0    0    0  "
      ]
     },
     "execution_count": 535,
     "metadata": {},
     "output_type": "execute_result"
    }
   ],
   "source": [
    "# Let's create columns with different probability cutoffs \n",
    "numbers = [float(x)/10 for x in range(10)]\n",
    "for i in numbers:\n",
    "    y_train_final[i]= y_train_final.Converted_prob.map(lambda x: 1 if x > i else 0)\n",
    "y_train_final.head()"
   ]
  },
  {
   "cell_type": "code",
   "execution_count": 536,
   "id": "c0a3c6e2",
   "metadata": {},
   "outputs": [
    {
     "name": "stdout",
     "output_type": "stream",
     "text": [
      "     prob  accuracy     sensi     speci\n",
      "0.0   0.0  0.432030  1.000000  0.000000\n",
      "0.1   0.1  0.549348  0.978448  0.222951\n",
      "0.2   0.2  0.694786  0.934483  0.512459\n",
      "0.3   0.3  0.761080  0.877586  0.672459\n",
      "0.4   0.4  0.786592  0.773276  0.796721\n",
      "0.5   0.5  0.786220  0.701293  0.850820\n",
      "0.6   0.6  0.760521  0.587069  0.892459\n",
      "0.7   0.7  0.737058  0.487500  0.926885\n",
      "0.8   0.8  0.701676  0.365086  0.957705\n",
      "0.9   0.9  0.648045  0.205172  0.984918\n"
     ]
    }
   ],
   "source": [
    "# Now let's calculate accuracy sensitivity and specificity for various probability cutoffs.\n",
    "cutoff_df = pd.DataFrame( columns = ['prob','accuracy','sensi','speci'])\n",
    "from sklearn.metrics import confusion_matrix\n",
    "\n",
    "# TP = confusion[1,1] # true positive \n",
    "# TN = confusion[0,0] # true negatives\n",
    "# FP = confusion[0,1] # false positives\n",
    "# FN = confusion[1,0] # false negatives\n",
    "\n",
    "num = [0.0,0.1,0.2,0.3,0.4,0.5,0.6,0.7,0.8,0.9]\n",
    "for i in num:\n",
    "    cm1 = metrics.confusion_matrix(y_train_final.Converted, y_train_final[i] )\n",
    "    total1=sum(sum(cm1))\n",
    "    accuracy = (cm1[0,0]+cm1[1,1])/total1\n",
    "    \n",
    "    speci = cm1[0,0]/(cm1[0,0]+cm1[0,1])\n",
    "    sensi = cm1[1,1]/(cm1[1,0]+cm1[1,1])\n",
    "    cutoff_df.loc[i] =[ i ,accuracy,sensi,speci]\n",
    "print(cutoff_df)"
   ]
  },
  {
   "cell_type": "code",
   "execution_count": 537,
   "id": "a4c000e4",
   "metadata": {},
   "outputs": [
    {
     "data": {
      "image/png": "[encoded data removed]",
      "text/plain": [
       "<Figure size 640x480 with 1 Axes>"
      ]
     },
     "metadata": {},
     "output_type": "display_data"
    }
   ],
   "source": [
    "# Let's plot accuracy sensitivity and specificity for various probabilities.\n",
    "cutoff_df.plot.line(x='prob', y=['accuracy','sensi','speci'])\n",
    "plt.show()"
   ]
  },
  {
   "cell_type": "markdown",
   "id": "2a0a0114",
   "metadata": {},
   "source": [
    "From the above curve 0.4 seems to be a good threshold"
   ]
  },
  {
   "cell_type": "code",
   "execution_count": 538,
   "id": "d6a37a02",
   "metadata": {},
   "outputs": [
    {
     "data": {
      "text/html": [
       "<div>\n",
       "<style scoped>\n",
       "    .dataframe tbody tr th:only-of-type {\n",
       "        vertical-align: middle;\n",
       "    }\n",
       "\n",
       "    .dataframe tbody tr th {\n",
       "        vertical-align: top;\n",
       "    }\n",
       "\n",
       "    .dataframe thead th {\n",
       "        text-align: right;\n",
       "    }\n",
       "</style>\n",
       "<table border=\"1\" class=\"dataframe\">\n",
       "  <thead>\n",
       "    <tr style=\"text-align: right;\">\n",
       "      <th></th>\n",
       "      <th>Converted</th>\n",
       "      <th>Converted_prob</th>\n",
       "      <th>Predicted</th>\n",
       "      <th>0.0</th>\n",
       "      <th>0.1</th>\n",
       "      <th>0.2</th>\n",
       "      <th>0.3</th>\n",
       "      <th>0.4</th>\n",
       "      <th>0.5</th>\n",
       "      <th>0.6</th>\n",
       "      <th>0.7</th>\n",
       "      <th>0.8</th>\n",
       "      <th>0.9</th>\n",
       "      <th>Final_predicted</th>\n",
       "    </tr>\n",
       "  </thead>\n",
       "  <tbody>\n",
       "    <tr>\n",
       "      <th>0</th>\n",
       "      <td>0</td>\n",
       "      <td>0.228496</td>\n",
       "      <td>0</td>\n",
       "      <td>1</td>\n",
       "      <td>1</td>\n",
       "      <td>1</td>\n",
       "      <td>0</td>\n",
       "      <td>0</td>\n",
       "      <td>0</td>\n",
       "      <td>0</td>\n",
       "      <td>0</td>\n",
       "      <td>0</td>\n",
       "      <td>0</td>\n",
       "      <td>0</td>\n",
       "    </tr>\n",
       "    <tr>\n",
       "      <th>1</th>\n",
       "      <td>0</td>\n",
       "      <td>0.209035</td>\n",
       "      <td>0</td>\n",
       "      <td>1</td>\n",
       "      <td>1</td>\n",
       "      <td>1</td>\n",
       "      <td>0</td>\n",
       "      <td>0</td>\n",
       "      <td>0</td>\n",
       "      <td>0</td>\n",
       "      <td>0</td>\n",
       "      <td>0</td>\n",
       "      <td>0</td>\n",
       "      <td>0</td>\n",
       "    </tr>\n",
       "    <tr>\n",
       "      <th>2</th>\n",
       "      <td>0</td>\n",
       "      <td>0.071274</td>\n",
       "      <td>0</td>\n",
       "      <td>1</td>\n",
       "      <td>0</td>\n",
       "      <td>0</td>\n",
       "      <td>0</td>\n",
       "      <td>0</td>\n",
       "      <td>0</td>\n",
       "      <td>0</td>\n",
       "      <td>0</td>\n",
       "      <td>0</td>\n",
       "      <td>0</td>\n",
       "      <td>0</td>\n",
       "    </tr>\n",
       "    <tr>\n",
       "      <th>3</th>\n",
       "      <td>0</td>\n",
       "      <td>0.109383</td>\n",
       "      <td>0</td>\n",
       "      <td>1</td>\n",
       "      <td>1</td>\n",
       "      <td>0</td>\n",
       "      <td>0</td>\n",
       "      <td>0</td>\n",
       "      <td>0</td>\n",
       "      <td>0</td>\n",
       "      <td>0</td>\n",
       "      <td>0</td>\n",
       "      <td>0</td>\n",
       "      <td>0</td>\n",
       "    </tr>\n",
       "    <tr>\n",
       "      <th>4</th>\n",
       "      <td>0</td>\n",
       "      <td>0.013471</td>\n",
       "      <td>0</td>\n",
       "      <td>1</td>\n",
       "      <td>0</td>\n",
       "      <td>0</td>\n",
       "      <td>0</td>\n",
       "      <td>0</td>\n",
       "      <td>0</td>\n",
       "      <td>0</td>\n",
       "      <td>0</td>\n",
       "      <td>0</td>\n",
       "      <td>0</td>\n",
       "      <td>0</td>\n",
       "    </tr>\n",
       "  </tbody>\n",
       "</table>\n",
       "</div>"
      ],
      "text/plain": [
       "   Converted  Converted_prob  Predicted  0.0  0.1  0.2  0.3  0.4  0.5  0.6  \\\n",
       "0          0        0.228496          0    1    1    1    0    0    0    0   \n",
       "1          0        0.209035          0    1    1    1    0    0    0    0   \n",
       "2          0        0.071274          0    1    0    0    0    0    0    0   \n",
       "3          0        0.109383          0    1    1    0    0    0    0    0   \n",
       "4          0        0.013471          0    1    0    0    0    0    0    0   \n",
       "\n",
       "   0.7  0.8  0.9  Final_predicted  \n",
       "0    0    0    0                0  \n",
       "1    0    0    0                0  \n",
       "2    0    0    0                0  \n",
       "3    0    0    0                0  \n",
       "4    0    0    0                0  "
      ]
     },
     "execution_count": 538,
     "metadata": {},
     "output_type": "execute_result"
    }
   ],
   "source": [
    "y_train_final[\"Final_predicted\"] = y_train_final.Converted_prob.map(lambda x:1 if x >0.4 else 0)\n",
    "y_train_final.head()"
   ]
  },
  {
   "cell_type": "markdown",
   "id": "811a9aa4",
   "metadata": {},
   "source": [
    "Checking accuracy,confusion matrix and other metrics for 0.4 threshold value"
   ]
  },
  {
   "cell_type": "code",
   "execution_count": 539,
   "id": "ee8d966a",
   "metadata": {},
   "outputs": [
    {
     "data": {
      "text/plain": [
       "0.6480446927374302"
      ]
     },
     "execution_count": 539,
     "metadata": {},
     "output_type": "execute_result"
    }
   ],
   "source": [
    "accuarcy = metrics.accuracy_score(y_train_final.Converted,y_train_final.Final_predicted)\n",
    "accuracy"
   ]
  },
  {
   "cell_type": "code",
   "execution_count": 540,
   "id": "71aa8e77",
   "metadata": {},
   "outputs": [
    {
     "data": {
      "text/plain": [
       "array([[2430,  620],\n",
       "       [ 526, 1794]], dtype=int64)"
      ]
     },
     "execution_count": 540,
     "metadata": {},
     "output_type": "execute_result"
    }
   ],
   "source": [
    "confusion_matrix = metrics.confusion_matrix(y_train_final.Converted,y_train_final.Final_predicted)\n",
    "confusion_matrix"
   ]
  },
  {
   "cell_type": "code",
   "execution_count": 541,
   "id": "b2ab3bfb",
   "metadata": {},
   "outputs": [],
   "source": [
    "TN = confusion_matrix[0,0]\n",
    "FP = confusion_matrix[0,1]\n",
    "FN = confusion_matrix[1,0]\n",
    "TP = confusion_matrix[1,1]\n"
   ]
  },
  {
   "cell_type": "code",
   "execution_count": 542,
   "id": "429d491c",
   "metadata": {},
   "outputs": [
    {
     "data": {
      "text/plain": [
       "0.7732758620689655"
      ]
     },
     "execution_count": 542,
     "metadata": {},
     "output_type": "execute_result"
    }
   ],
   "source": [
    "# sensitivity\n",
    "sens = TP/float(TP+FN)\n",
    "sens"
   ]
  },
  {
   "cell_type": "code",
   "execution_count": 543,
   "id": "bd28d4c7",
   "metadata": {},
   "outputs": [
    {
     "data": {
      "text/plain": [
       "0.7967213114754098"
      ]
     },
     "execution_count": 543,
     "metadata": {},
     "output_type": "execute_result"
    }
   ],
   "source": [
    "#specificity\n",
    "spec= TN/float(TN+FP)\n",
    "spec"
   ]
  },
  {
   "cell_type": "code",
   "execution_count": 544,
   "id": "0f4682a8",
   "metadata": {},
   "outputs": [
    {
     "data": {
      "text/plain": [
       "0.20327868852459016"
      ]
     },
     "execution_count": 544,
     "metadata": {},
     "output_type": "execute_result"
    }
   ],
   "source": [
    "# FPR\n",
    "FPR = FP/float(TN+FP)\n",
    "FPR"
   ]
  },
  {
   "cell_type": "markdown",
   "id": "f001693c",
   "metadata": {},
   "source": [
    "## Precision and Recall"
   ]
  },
  {
   "cell_type": "code",
   "execution_count": 545,
   "id": "6cbe7153",
   "metadata": {},
   "outputs": [
    {
     "data": {
      "text/plain": [
       "0.7431648715824358"
      ]
     },
     "execution_count": 545,
     "metadata": {},
     "output_type": "execute_result"
    }
   ],
   "source": [
    "prec = metrics.precision_score(y_train_final.Converted,y_train_final.Final_predicted)\n",
    "prec"
   ]
  },
  {
   "cell_type": "code",
   "execution_count": 546,
   "id": "cd398678",
   "metadata": {},
   "outputs": [
    {
     "data": {
      "text/plain": [
       "0.7732758620689655"
      ]
     },
     "execution_count": 546,
     "metadata": {},
     "output_type": "execute_result"
    }
   ],
   "source": [
    "rec= metrics.recall_score(y_train_final.Converted,y_train_final.Final_predicted)\n",
    "rec"
   ]
  },
  {
   "cell_type": "code",
   "execution_count": 547,
   "id": "38d5a34b",
   "metadata": {},
   "outputs": [],
   "source": [
    "p, r, thresholds = precision_recall_curve(y_train_final.Converted,y_train_final.Converted_prob)"
   ]
  },
  {
   "cell_type": "code",
   "execution_count": 548,
   "id": "c12d930f",
   "metadata": {},
   "outputs": [
    {
     "data": {
      "image/png": "[encoded data removed]",
      "text/plain": [
       "<Figure size 640x480 with 1 Axes>"
      ]
     },
     "metadata": {},
     "output_type": "display_data"
    }
   ],
   "source": [
    "plt.plot(thresholds, p[:-1], \"g-\")\n",
    "plt.plot(thresholds, r[:-1], \"r-\")\n",
    "plt.show()"
   ]
  },
  {
   "cell_type": "markdown",
   "id": "82b71d37",
   "metadata": {},
   "source": [
    "### Making predictions on Test Data"
   ]
  },
  {
   "cell_type": "code",
   "execution_count": 549,
   "id": "e753674c",
   "metadata": {},
   "outputs": [],
   "source": [
    "X_test[['TotalVisits','Total Time Spent on Website','Page Views Per Visit']] = scaler.transform(X_test[['TotalVisits','Total Time Spent on Website','Page Views Per Visit']])"
   ]
  },
  {
   "cell_type": "code",
   "execution_count": 550,
   "id": "33b0f197",
   "metadata": {},
   "outputs": [],
   "source": [
    "X_test_rfe = X_test[X_train_rfe.columns]"
   ]
  },
  {
   "cell_type": "code",
   "execution_count": 551,
   "id": "4e6f9406",
   "metadata": {},
   "outputs": [
    {
     "data": {
      "text/html": [
       "<div>\n",
       "<style scoped>\n",
       "    .dataframe tbody tr th:only-of-type {\n",
       "        vertical-align: middle;\n",
       "    }\n",
       "\n",
       "    .dataframe tbody tr th {\n",
       "        vertical-align: top;\n",
       "    }\n",
       "\n",
       "    .dataframe thead th {\n",
       "        text-align: right;\n",
       "    }\n",
       "</style>\n",
       "<table border=\"1\" class=\"dataframe\">\n",
       "  <thead>\n",
       "    <tr style=\"text-align: right;\">\n",
       "      <th></th>\n",
       "      <th>Total Time Spent on Website</th>\n",
       "      <th>Lead Origin_Landing Page Submission</th>\n",
       "      <th>Lead Origin_Lead Add Form</th>\n",
       "      <th>Lead Source_Olark Chat</th>\n",
       "      <th>Lead Source_Welingak Website</th>\n",
       "      <th>Last Activity_Email Bounced</th>\n",
       "      <th>Last Activity_Email Opened</th>\n",
       "      <th>Last Activity_Had a Phone Conversation</th>\n",
       "      <th>Last Activity_SMS Sent</th>\n",
       "      <th>Specialization_Not provided</th>\n",
       "      <th>Last Notable Activity_Modified</th>\n",
       "      <th>Last Notable Activity_Olark Chat Conversation</th>\n",
       "      <th>Last Notable Activity_Unreachable</th>\n",
       "    </tr>\n",
       "  </thead>\n",
       "  <tbody>\n",
       "    <tr>\n",
       "      <th>6272</th>\n",
       "      <td>0.041373</td>\n",
       "      <td>1</td>\n",
       "      <td>0</td>\n",
       "      <td>0</td>\n",
       "      <td>0</td>\n",
       "      <td>0</td>\n",
       "      <td>1</td>\n",
       "      <td>0</td>\n",
       "      <td>0</td>\n",
       "      <td>0</td>\n",
       "      <td>0</td>\n",
       "      <td>0</td>\n",
       "      <td>0</td>\n",
       "    </tr>\n",
       "    <tr>\n",
       "      <th>6311</th>\n",
       "      <td>0.051496</td>\n",
       "      <td>0</td>\n",
       "      <td>0</td>\n",
       "      <td>0</td>\n",
       "      <td>0</td>\n",
       "      <td>0</td>\n",
       "      <td>0</td>\n",
       "      <td>0</td>\n",
       "      <td>0</td>\n",
       "      <td>0</td>\n",
       "      <td>1</td>\n",
       "      <td>0</td>\n",
       "      <td>0</td>\n",
       "    </tr>\n",
       "    <tr>\n",
       "      <th>8551</th>\n",
       "      <td>0.000000</td>\n",
       "      <td>0</td>\n",
       "      <td>0</td>\n",
       "      <td>1</td>\n",
       "      <td>0</td>\n",
       "      <td>0</td>\n",
       "      <td>1</td>\n",
       "      <td>0</td>\n",
       "      <td>0</td>\n",
       "      <td>1</td>\n",
       "      <td>0</td>\n",
       "      <td>0</td>\n",
       "      <td>0</td>\n",
       "    </tr>\n",
       "    <tr>\n",
       "      <th>87</th>\n",
       "      <td>0.042694</td>\n",
       "      <td>1</td>\n",
       "      <td>0</td>\n",
       "      <td>0</td>\n",
       "      <td>0</td>\n",
       "      <td>0</td>\n",
       "      <td>1</td>\n",
       "      <td>0</td>\n",
       "      <td>0</td>\n",
       "      <td>0</td>\n",
       "      <td>0</td>\n",
       "      <td>0</td>\n",
       "      <td>0</td>\n",
       "    </tr>\n",
       "    <tr>\n",
       "      <th>407</th>\n",
       "      <td>0.590229</td>\n",
       "      <td>0</td>\n",
       "      <td>0</td>\n",
       "      <td>0</td>\n",
       "      <td>0</td>\n",
       "      <td>0</td>\n",
       "      <td>1</td>\n",
       "      <td>0</td>\n",
       "      <td>0</td>\n",
       "      <td>1</td>\n",
       "      <td>0</td>\n",
       "      <td>0</td>\n",
       "      <td>0</td>\n",
       "    </tr>\n",
       "  </tbody>\n",
       "</table>\n",
       "</div>"
      ],
      "text/plain": [
       "      Total Time Spent on Website  Lead Origin_Landing Page Submission  \\\n",
       "6272                     0.041373                                    1   \n",
       "6311                     0.051496                                    0   \n",
       "8551                     0.000000                                    0   \n",
       "87                       0.042694                                    1   \n",
       "407                      0.590229                                    0   \n",
       "\n",
       "      Lead Origin_Lead Add Form  Lead Source_Olark Chat  \\\n",
       "6272                          0                       0   \n",
       "6311                          0                       0   \n",
       "8551                          0                       1   \n",
       "87                            0                       0   \n",
       "407                           0                       0   \n",
       "\n",
       "      Lead Source_Welingak Website  Last Activity_Email Bounced  \\\n",
       "6272                             0                            0   \n",
       "6311                             0                            0   \n",
       "8551                             0                            0   \n",
       "87                               0                            0   \n",
       "407                              0                            0   \n",
       "\n",
       "      Last Activity_Email Opened  Last Activity_Had a Phone Conversation  \\\n",
       "6272                           1                                       0   \n",
       "6311                           0                                       0   \n",
       "8551                           1                                       0   \n",
       "87                             1                                       0   \n",
       "407                            1                                       0   \n",
       "\n",
       "      Last Activity_SMS Sent  Specialization_Not provided  \\\n",
       "6272                       0                            0   \n",
       "6311                       0                            0   \n",
       "8551                       0                            1   \n",
       "87                         0                            0   \n",
       "407                        0                            1   \n",
       "\n",
       "      Last Notable Activity_Modified  \\\n",
       "6272                               0   \n",
       "6311                               1   \n",
       "8551                               0   \n",
       "87                                 0   \n",
       "407                                0   \n",
       "\n",
       "      Last Notable Activity_Olark Chat Conversation  \\\n",
       "6272                                              0   \n",
       "6311                                              0   \n",
       "8551                                              0   \n",
       "87                                                0   \n",
       "407                                               0   \n",
       "\n",
       "      Last Notable Activity_Unreachable  \n",
       "6272                                  0  \n",
       "6311                                  0  \n",
       "8551                                  0  \n",
       "87                                    0  \n",
       "407                                   0  "
      ]
     },
     "execution_count": 551,
     "metadata": {},
     "output_type": "execute_result"
    }
   ],
   "source": [
    "X_test_rfe.head()"
   ]
  },
  {
   "cell_type": "code",
   "execution_count": 552,
   "id": "ac48aa43",
   "metadata": {},
   "outputs": [
    {
     "data": {
      "text/plain": [
       "6272    1\n",
       "6311    0\n",
       "8551    1\n",
       "87      0\n",
       "407     1\n",
       "Name: Converted, dtype: int64"
      ]
     },
     "execution_count": 552,
     "metadata": {},
     "output_type": "execute_result"
    }
   ],
   "source": [
    "y_test.head()"
   ]
  },
  {
   "cell_type": "code",
   "execution_count": 553,
   "id": "d5c38395",
   "metadata": {},
   "outputs": [],
   "source": [
    "X_test_sm = sm.add_constant(X_test_rfe)"
   ]
  },
  {
   "cell_type": "code",
   "execution_count": 554,
   "id": "d72f7236",
   "metadata": {},
   "outputs": [],
   "source": [
    "y_test_pred = lm3.predict(X_test_sm)"
   ]
  },
  {
   "cell_type": "code",
   "execution_count": 555,
   "id": "de88caad",
   "metadata": {},
   "outputs": [
    {
     "data": {
      "text/plain": [
       "6272    0.157304\n",
       "6311    0.163452\n",
       "8551    0.375739\n",
       "87      0.158087\n",
       "407     0.715348\n",
       "dtype: float64"
      ]
     },
     "execution_count": 555,
     "metadata": {},
     "output_type": "execute_result"
    }
   ],
   "source": [
    "y_test_pred.head()"
   ]
  },
  {
   "cell_type": "code",
   "execution_count": 556,
   "id": "3f1158ff",
   "metadata": {},
   "outputs": [],
   "source": [
    "y_test_df= pd.DataFrame(y_test)"
   ]
  },
  {
   "cell_type": "code",
   "execution_count": 557,
   "id": "8742cb66",
   "metadata": {},
   "outputs": [],
   "source": [
    "y_test_pred_df = pd.DataFrame(y_test_pred)"
   ]
  },
  {
   "cell_type": "code",
   "execution_count": 558,
   "id": "784e3c7b",
   "metadata": {},
   "outputs": [],
   "source": [
    "# Removing index for both dataframes to append them side by side \n",
    "y_test_df.reset_index(drop=True,inplace=True)\n",
    "y_test_pred_df.reset_index(drop=True,inplace=True)"
   ]
  },
  {
   "cell_type": "code",
   "execution_count": 559,
   "id": "3c38ea98",
   "metadata": {},
   "outputs": [],
   "source": [
    "y_test_final = pd.concat([y_test_df,y_test_pred_df],axis=1)"
   ]
  },
  {
   "cell_type": "code",
   "execution_count": 560,
   "id": "3b90868d",
   "metadata": {},
   "outputs": [],
   "source": [
    "\n",
    "y_test_final=y_test_final.rename(columns={0:\"Converted_prob\"})"
   ]
  },
  {
   "cell_type": "code",
   "execution_count": 561,
   "id": "50af3b0c",
   "metadata": {},
   "outputs": [
    {
     "data": {
      "text/html": [
       "<div>\n",
       "<style scoped>\n",
       "    .dataframe tbody tr th:only-of-type {\n",
       "        vertical-align: middle;\n",
       "    }\n",
       "\n",
       "    .dataframe tbody tr th {\n",
       "        vertical-align: top;\n",
       "    }\n",
       "\n",
       "    .dataframe thead th {\n",
       "        text-align: right;\n",
       "    }\n",
       "</style>\n",
       "<table border=\"1\" class=\"dataframe\">\n",
       "  <thead>\n",
       "    <tr style=\"text-align: right;\">\n",
       "      <th></th>\n",
       "      <th>Converted</th>\n",
       "      <th>Converted_prob</th>\n",
       "    </tr>\n",
       "  </thead>\n",
       "  <tbody>\n",
       "    <tr>\n",
       "      <th>0</th>\n",
       "      <td>1</td>\n",
       "      <td>0.157304</td>\n",
       "    </tr>\n",
       "    <tr>\n",
       "      <th>1</th>\n",
       "      <td>0</td>\n",
       "      <td>0.163452</td>\n",
       "    </tr>\n",
       "    <tr>\n",
       "      <th>2</th>\n",
       "      <td>1</td>\n",
       "      <td>0.375739</td>\n",
       "    </tr>\n",
       "    <tr>\n",
       "      <th>3</th>\n",
       "      <td>0</td>\n",
       "      <td>0.158087</td>\n",
       "    </tr>\n",
       "    <tr>\n",
       "      <th>4</th>\n",
       "      <td>1</td>\n",
       "      <td>0.715348</td>\n",
       "    </tr>\n",
       "  </tbody>\n",
       "</table>\n",
       "</div>"
      ],
      "text/plain": [
       "   Converted  Converted_prob\n",
       "0          1        0.157304\n",
       "1          0        0.163452\n",
       "2          1        0.375739\n",
       "3          0        0.158087\n",
       "4          1        0.715348"
      ]
     },
     "execution_count": 561,
     "metadata": {},
     "output_type": "execute_result"
    }
   ],
   "source": [
    "y_test_final.head()"
   ]
  },
  {
   "cell_type": "code",
   "execution_count": 562,
   "id": "1917db05",
   "metadata": {},
   "outputs": [
    {
     "data": {
      "text/html": [
       "<div>\n",
       "<style scoped>\n",
       "    .dataframe tbody tr th:only-of-type {\n",
       "        vertical-align: middle;\n",
       "    }\n",
       "\n",
       "    .dataframe tbody tr th {\n",
       "        vertical-align: top;\n",
       "    }\n",
       "\n",
       "    .dataframe thead th {\n",
       "        text-align: right;\n",
       "    }\n",
       "</style>\n",
       "<table border=\"1\" class=\"dataframe\">\n",
       "  <thead>\n",
       "    <tr style=\"text-align: right;\">\n",
       "      <th></th>\n",
       "      <th>Converted</th>\n",
       "      <th>Converted_prob</th>\n",
       "      <th>Predicted</th>\n",
       "    </tr>\n",
       "  </thead>\n",
       "  <tbody>\n",
       "    <tr>\n",
       "      <th>0</th>\n",
       "      <td>1</td>\n",
       "      <td>0.157304</td>\n",
       "      <td>0</td>\n",
       "    </tr>\n",
       "    <tr>\n",
       "      <th>1</th>\n",
       "      <td>0</td>\n",
       "      <td>0.163452</td>\n",
       "      <td>0</td>\n",
       "    </tr>\n",
       "    <tr>\n",
       "      <th>2</th>\n",
       "      <td>1</td>\n",
       "      <td>0.375739</td>\n",
       "      <td>0</td>\n",
       "    </tr>\n",
       "    <tr>\n",
       "      <th>3</th>\n",
       "      <td>0</td>\n",
       "      <td>0.158087</td>\n",
       "      <td>0</td>\n",
       "    </tr>\n",
       "    <tr>\n",
       "      <th>4</th>\n",
       "      <td>1</td>\n",
       "      <td>0.715348</td>\n",
       "      <td>1</td>\n",
       "    </tr>\n",
       "  </tbody>\n",
       "</table>\n",
       "</div>"
      ],
      "text/plain": [
       "   Converted  Converted_prob  Predicted\n",
       "0          1        0.157304          0\n",
       "1          0        0.163452          0\n",
       "2          1        0.375739          0\n",
       "3          0        0.158087          0\n",
       "4          1        0.715348          1"
      ]
     },
     "execution_count": 562,
     "metadata": {},
     "output_type": "execute_result"
    }
   ],
   "source": [
    "y_test_final[\"Predicted\"] =y_test_final.Converted_prob.map(lambda x:1 if x>0.4 else 0)\n",
    "y_test_final.head()"
   ]
  },
  {
   "cell_type": "code",
   "execution_count": 564,
   "id": "e48ba44c",
   "metadata": {},
   "outputs": [
    {
     "data": {
      "text/plain": [
       "0.7841007819287577"
      ]
     },
     "execution_count": 564,
     "metadata": {},
     "output_type": "execute_result"
    }
   ],
   "source": [
    "accuracy_test = metrics.accuracy_score(y_test_final.Converted,y_test_final.Predicted)\n",
    "accuracy_test\n"
   ]
  },
  {
   "cell_type": "code",
   "execution_count": 565,
   "id": "48d42b9d",
   "metadata": {},
   "outputs": [
    {
     "data": {
      "text/plain": [
       "array([[1040,  272],\n",
       "       [ 225,  765]], dtype=int64)"
      ]
     },
     "execution_count": 565,
     "metadata": {},
     "output_type": "execute_result"
    }
   ],
   "source": [
    "confusion_test = metrics.confusion_matrix(y_test_final.Converted,y_test_final.Predicted)\n",
    "confusion_test"
   ]
  },
  {
   "cell_type": "code",
   "execution_count": 566,
   "id": "69173339",
   "metadata": {},
   "outputs": [],
   "source": [
    "TP= confusion_test[1,1]\n",
    "TN= confusion_test[0,0]\n",
    "FP= confusion_test[0,1]\n",
    "FN= confusion_test[1,0]"
   ]
  },
  {
   "cell_type": "code",
   "execution_count": 568,
   "id": "3afa688e",
   "metadata": {},
   "outputs": [
    {
     "data": {
      "text/plain": [
       "0.7727272727272727"
      ]
     },
     "execution_count": 568,
     "metadata": {},
     "output_type": "execute_result"
    }
   ],
   "source": [
    "sen = TP/float(TP+FN)\n",
    "sen"
   ]
  },
  {
   "cell_type": "code",
   "execution_count": 569,
   "id": "00ae1dbd",
   "metadata": {},
   "outputs": [
    {
     "data": {
      "text/plain": [
       "0.7926829268292683"
      ]
     },
     "execution_count": 569,
     "metadata": {},
     "output_type": "execute_result"
    }
   ],
   "source": [
    "spec= TN/float(TN+FP)\n",
    "spec"
   ]
  },
  {
   "cell_type": "code",
   "execution_count": 572,
   "id": "50da8f5f",
   "metadata": {},
   "outputs": [
    {
     "data": {
      "text/plain": [
       "0.7377049180327869"
      ]
     },
     "execution_count": 572,
     "metadata": {},
     "output_type": "execute_result"
    }
   ],
   "source": [
    "prec= metrics.precision_score(y_test_final.Converted,y_test_final.Predicted)\n",
    "prec"
   ]
  },
  {
   "cell_type": "code",
   "execution_count": 574,
   "id": "4defb650",
   "metadata": {},
   "outputs": [
    {
     "data": {
      "text/plain": [
       "0.7727272727272727"
      ]
     },
     "execution_count": 574,
     "metadata": {},
     "output_type": "execute_result"
    }
   ],
   "source": [
    "recall= metrics.recall_score(y_test_final.Converted,y_test_final.Predicted)\n",
    "recall"
   ]
  }
 ],
 "metadata": {
  "kernelspec": {
   "display_name": "Python 3 (ipykernel)",
   "language": "python",
   "name": "python3"
  },
  "language_info": {
   "codemirror_mode": {
    "name": "ipython",
    "version": 3
   },
   "file_extension": ".py",
   "mimetype": "text/x-python",
   "name": "python",
   "nbconvert_exporter": "python",
   "pygments_lexer": "ipython3",
   "version": "3.11.5"
  }
 },
 "nbformat": 4,
 "nbformat_minor": 5
}
